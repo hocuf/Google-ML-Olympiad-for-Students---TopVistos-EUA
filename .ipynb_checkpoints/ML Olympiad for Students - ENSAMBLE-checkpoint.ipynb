{
 "cells": [
  {
   "cell_type": "markdown",
   "id": "6dc109cc",
   "metadata": {},
   "source": [
    "# ML Olympiad for Students - TopVistos EUA"
   ]
  },
  {
   "cell_type": "markdown",
   "id": "500227d7",
   "metadata": {},
   "source": [
    "### Contexto\n",
    "As comunidades empresariais nos Estados Unidos enfrentam uma alta demanda por recursos humanos, mas um dos desafios constantes é identificar e atrair o talento certo, que é talvez o elemento mais importante para se manter competitivo. Empresas nos Estados Unidos procuram indivíduos trabalhadores, talentosos e qualificados tanto localmente quanto no exterior.\n",
    "\n",
    "\n",
    "\n",
    "A Lei de Imigração e Nacionalidade (INA) dos EUA permite que trabalhadores estrangeiros venham trabalhar nos Estados Unidos temporária ou permanentemente. A lei também protege os trabalhadores americanos contra impactos adversos em seus salários ou condições de trabalho, garantindo que os empregadores americanos cumpram os requisitos legais ao contratar trabalhadores estrangeiros para suprir a escassez de mão de obra. Os programas de imigração são administrados pelo Escritório de Certificação de Trabalho Estrangeiro (OFLC).\n",
    "\n",
    "\n",
    "\n",
    "O OFLC processa pedidos de certificação de emprego para empregadores que buscam trazer trabalhadores estrangeiros para os Estados Unidos e concede certificações nos casos em que os empregadores podem demonstrar que não há trabalhadores americanos suficientes disponíveis para realizar o trabalho com salários que atendam ou excedam o salário pago para a ocupação na área de emprego pretendida.\n",
    "\n",
    "\n",
    "\n",
    "### Objetivo\n",
    "No ano fiscal de 2016, o OFLC processou 775.979 pedidos de empregadores para 1.699.957 posições de certificações de trabalho temporárias e permanentes. Isso representou um aumento de nove por cento no número total de pedidos processados em relação ao ano anterior. O processo de revisar cada caso está se tornando uma tarefa tediosa à medida que o número de candidatos aumenta a cada ano.\n",
    "\n",
    "\n",
    "\n",
    "O aumento do número de candidatos a cada ano demanda uma solução baseada em Aprendizado de Máquina que possa ajudar na pré-seleção dos candidatos com maiores chances de aprovação de VISTO. O OFLC contratou sua empresa, TopVistos, para soluções baseadas em dados. Como Cientista de Dados, você deve analisar os dados fornecidos e, com a ajuda de um modelo de classificação:\n",
    "\n",
    "\n",
    "\n",
    "Facilitar o processo de aprovação de vistos.\n",
    "\n",
    "\n",
    "\n",
    "Recomendar um perfil adequado para os candidatos para os quais o visto deve ser certificado ou negado, com base nos fatores que influenciam significativamente o status do caso."
   ]
  },
  {
   "cell_type": "markdown",
   "id": "6fe35fe3",
   "metadata": {},
   "source": [
    "### Dataset Description\n",
    "\n",
    "Os dados contêm diferentes atributos do empregado e do empregador. O dicionário de dados detalhado é fornecido abaixo.\n",
    "\n",
    "\n",
    "Temos alguns arquivos disponibilizados para o treino dos modelos. Note que para seu modelo ser corretamente avaliado, você precisa enviar os seus dados no formato do arquivo sample_submission.csv.\n",
    "\n",
    "\n",
    "#### Arquivos\n",
    "- **train.csv** - dataset de treino\n",
    "- **test.csv** - dataset de testes\n",
    "- **sample_submission.csv** - um exemplo de como o arquivo enviado deve ser composto\n",
    "\n",
    "#### Dicionário dos Dados\n",
    "\n",
    "- **id_do_caso:** ID de cada solicitação de visto\n",
    "- **continente:** Informação do continente do empregado\n",
    "- **educação_do_empregado:** Informação sobre a educação do empregado\n",
    "- **tem_experiência_de_trabalho:** O empregado possui alguma experiência de trabalho? S = Sim; N = Não\n",
    "- **requer_treinamento_de_trabalho:** O empregado requer algum treinamento de trabalho? S = Sim; N = Não\n",
    "- **num_de_empregados:** Número de funcionários na empresa do empregador\n",
    "- **ano_de_estabelecimento:** Ano em que a empresa do empregador foi estabelecida\n",
    "- **região_de_emprego:** Informação da região de emprego pretendida pelo trabalhador estrangeiro nos EUA.\n",
    "- **salário_prevalecente:** Salário médio pago a trabalhadores em ocupações semelhantes na área de emprego pretendida. O objetivo do salário prevalecente é garantir que o trabalhador estrangeiro não seja subremunerado em comparação com outros trabalhadores que oferecem o mesmo serviço ou serviço similar na mesma área de emprego.\n",
    "- **unidade_de_salário:** Unidade do salário prevalecente. Os valores incluem Por Hora, Por Semana, Por Mês e Por Ano.\n",
    "- **posição_em_tempo_integral:** A posição de trabalho é em tempo integral? S = Posição em Tempo Integral; N = Posição em Meio Período\n",
    "- **status_do_caso:** Indicador se o visto foi certificado ou negado\n"
   ]
  },
  {
   "cell_type": "code",
   "execution_count": 1,
   "id": "f285f0db",
   "metadata": {},
   "outputs": [],
   "source": [
    "import pandas as pd\n",
    "pd.set_option(\"display.max_columns\",100)\n",
    "import numpy as np\n",
    "\n",
    "          # Vizulation\n",
    "import plotly.express as px\n",
    "import seaborn as sns\n",
    "import matplotlib.pyplot as plt\n",
    "\n",
    "         # Scaling Model\n",
    "from sklearn.preprocessing import StandardScaler\n",
    "\n",
    "\n",
    "         # Clsassification Models\n",
    "from sklearn.naive_bayes import GaussianNB, BernoulliNB\n",
    "from sklearn.svm import SVC\n",
    "from sklearn.ensemble import RandomForestClassifier, GradientBoostingClassifier\n",
    "from sklearn.neighbors import KNeighborsClassifier\n",
    "from sklearn.linear_model import LogisticRegression\n",
    "from sklearn.tree import DecisionTreeClassifier, ExtraTreeRegressor\n",
    "\n",
    "          # Modelling\n",
    "from sklearn.model_selection import train_test_split\n",
    "\n",
    "          # Testing\n",
    "from sklearn.metrics import accuracy_score, confusion_matrix,classification_report\n",
    "\n",
    "\n",
    "\n",
    "from imblearn.over_sampling import SMOTE\n",
    "from sklearn.ensemble import VotingClassifier\n",
    "\n",
    "         # Deep Learning\n",
    "from tensorflow.keras.models import Sequential\n",
    "from tensorflow.keras.layers import Dense\n",
    "\n",
    "import warnings\n",
    "warnings.filterwarnings(\"ignore\")"
   ]
  },
  {
   "cell_type": "code",
   "execution_count": 2,
   "id": "aeb2bef1",
   "metadata": {},
   "outputs": [],
   "source": [
    "df = pd.read_csv(\"train.csv\")"
   ]
  },
  {
   "cell_type": "code",
   "execution_count": 3,
   "id": "d72a54d5",
   "metadata": {},
   "outputs": [
    {
     "data": {
      "text/plain": [
       "(17836, 12)"
      ]
     },
     "execution_count": 3,
     "metadata": {},
     "output_type": "execute_result"
    }
   ],
   "source": [
    "df.shape"
   ]
  },
  {
   "cell_type": "markdown",
   "id": "5a019cd6",
   "metadata": {},
   "source": [
    "-------------"
   ]
  },
  {
   "cell_type": "markdown",
   "id": "8c1d0387",
   "metadata": {},
   "source": [
    "status_do_caso: Indicador do facto de o visto ter sido aprovado ou não. Criei-o como 'Negado':0, 'Aprovado':1."
   ]
  },
  {
   "cell_type": "code",
   "execution_count": 4,
   "id": "cb9eef58",
   "metadata": {},
   "outputs": [
    {
     "data": {
      "text/plain": [
       "array([0, 1], dtype=int64)"
      ]
     },
     "execution_count": 4,
     "metadata": {},
     "output_type": "execute_result"
    }
   ],
   "source": [
    "d = {'Negado':0, 'Aprovado':1}\n",
    "df[\"status_do_caso\"]=df[\"status_do_caso\"].map(d)\n",
    "df[\"status_do_caso\"].unique()"
   ]
  },
  {
   "cell_type": "markdown",
   "id": "7a77f1ea",
   "metadata": {},
   "source": [
    "-----------------"
   ]
  },
  {
   "cell_type": "code",
   "execution_count": 5,
   "id": "302a868b",
   "metadata": {},
   "outputs": [],
   "source": [
    "df_test = pd.read_csv(\"test.csv\")\n",
    "df = df.append(df_test)"
   ]
  },
  {
   "cell_type": "code",
   "execution_count": 6,
   "id": "08807d5b",
   "metadata": {},
   "outputs": [
    {
     "data": {
      "text/plain": [
       "((25480, 12), (7644, 11))"
      ]
     },
     "execution_count": 6,
     "metadata": {},
     "output_type": "execute_result"
    }
   ],
   "source": [
    "df.shape, df_test.shape"
   ]
  },
  {
   "cell_type": "markdown",
   "id": "844f6911",
   "metadata": {},
   "source": [
    "## Exploratory Data Analysis\n",
    "\n",
    "É o processo de compreensão, exploração e visualização de dados. Neste processo, iremos limpar os dados, caracterizar e efectuar análises estatísticas, visualizar os dados e interpretar os resultados."
   ]
  },
  {
   "cell_type": "code",
   "execution_count": 7,
   "id": "bc51b346",
   "metadata": {},
   "outputs": [
    {
     "data": {
      "text/html": [
       "<div>\n",
       "<style scoped>\n",
       "    .dataframe tbody tr th:only-of-type {\n",
       "        vertical-align: middle;\n",
       "    }\n",
       "\n",
       "    .dataframe tbody tr th {\n",
       "        vertical-align: top;\n",
       "    }\n",
       "\n",
       "    .dataframe thead th {\n",
       "        text-align: right;\n",
       "    }\n",
       "</style>\n",
       "<table border=\"1\" class=\"dataframe\">\n",
       "  <thead>\n",
       "    <tr style=\"text-align: right;\">\n",
       "      <th></th>\n",
       "      <th>id_do_caso</th>\n",
       "      <th>continente</th>\n",
       "      <th>educacao_do_empregado</th>\n",
       "      <th>tem_experiencia_de_trabalho</th>\n",
       "      <th>requer_treinamento_de_trabalho</th>\n",
       "      <th>num_de_empregados</th>\n",
       "      <th>ano_de_estabelecimento</th>\n",
       "      <th>regiao_de_emprego</th>\n",
       "      <th>salario_prevalecente</th>\n",
       "      <th>unidade_de_salario</th>\n",
       "      <th>posicao_em_tempo_integral</th>\n",
       "      <th>status_do_caso</th>\n",
       "    </tr>\n",
       "  </thead>\n",
       "  <tbody>\n",
       "    <tr>\n",
       "      <th>0</th>\n",
       "      <td>EZYV10567</td>\n",
       "      <td>Europa</td>\n",
       "      <td>Ensino Médio</td>\n",
       "      <td>N</td>\n",
       "      <td>S</td>\n",
       "      <td>2087</td>\n",
       "      <td>1855</td>\n",
       "      <td>Sul</td>\n",
       "      <td>69711.24</td>\n",
       "      <td>Ano</td>\n",
       "      <td>S</td>\n",
       "      <td>0.0</td>\n",
       "    </tr>\n",
       "    <tr>\n",
       "      <th>1</th>\n",
       "      <td>EZYV5505</td>\n",
       "      <td>Ásia</td>\n",
       "      <td>Mestrado</td>\n",
       "      <td>S</td>\n",
       "      <td>N</td>\n",
       "      <td>5991</td>\n",
       "      <td>2003</td>\n",
       "      <td>Meio-Oeste</td>\n",
       "      <td>52931.38</td>\n",
       "      <td>Ano</td>\n",
       "      <td>S</td>\n",
       "      <td>1.0</td>\n",
       "    </tr>\n",
       "    <tr>\n",
       "      <th>2</th>\n",
       "      <td>EZYV5207</td>\n",
       "      <td>Ásia</td>\n",
       "      <td>Ensino Médio</td>\n",
       "      <td>N</td>\n",
       "      <td>N</td>\n",
       "      <td>1426</td>\n",
       "      <td>2000</td>\n",
       "      <td>Ilha</td>\n",
       "      <td>110830.21</td>\n",
       "      <td>Ano</td>\n",
       "      <td>S</td>\n",
       "      <td>0.0</td>\n",
       "    </tr>\n",
       "    <tr>\n",
       "      <th>3</th>\n",
       "      <td>EZYV7545</td>\n",
       "      <td>Ásia</td>\n",
       "      <td>Ensino Médio</td>\n",
       "      <td>N</td>\n",
       "      <td>N</td>\n",
       "      <td>3846</td>\n",
       "      <td>1992</td>\n",
       "      <td>Meio-Oeste</td>\n",
       "      <td>91884.68</td>\n",
       "      <td>Semana</td>\n",
       "      <td>S</td>\n",
       "      <td>0.0</td>\n",
       "    </tr>\n",
       "    <tr>\n",
       "      <th>4</th>\n",
       "      <td>EZYV16071</td>\n",
       "      <td>Ásia</td>\n",
       "      <td>Ensino Superior</td>\n",
       "      <td>S</td>\n",
       "      <td>N</td>\n",
       "      <td>3957</td>\n",
       "      <td>1949</td>\n",
       "      <td>Nordeste</td>\n",
       "      <td>138155.24</td>\n",
       "      <td>Ano</td>\n",
       "      <td>S</td>\n",
       "      <td>1.0</td>\n",
       "    </tr>\n",
       "  </tbody>\n",
       "</table>\n",
       "</div>"
      ],
      "text/plain": [
       "  id_do_caso continente educacao_do_empregado tem_experiencia_de_trabalho  \\\n",
       "0  EZYV10567     Europa          Ensino Médio                           N   \n",
       "1   EZYV5505       Ásia              Mestrado                           S   \n",
       "2   EZYV5207       Ásia          Ensino Médio                           N   \n",
       "3   EZYV7545       Ásia          Ensino Médio                           N   \n",
       "4  EZYV16071       Ásia       Ensino Superior                           S   \n",
       "\n",
       "  requer_treinamento_de_trabalho  num_de_empregados  ano_de_estabelecimento  \\\n",
       "0                              S               2087                    1855   \n",
       "1                              N               5991                    2003   \n",
       "2                              N               1426                    2000   \n",
       "3                              N               3846                    1992   \n",
       "4                              N               3957                    1949   \n",
       "\n",
       "  regiao_de_emprego  salario_prevalecente unidade_de_salario  \\\n",
       "0               Sul              69711.24                Ano   \n",
       "1        Meio-Oeste              52931.38                Ano   \n",
       "2              Ilha             110830.21                Ano   \n",
       "3        Meio-Oeste              91884.68             Semana   \n",
       "4          Nordeste             138155.24                Ano   \n",
       "\n",
       "  posicao_em_tempo_integral  status_do_caso  \n",
       "0                         S             0.0  \n",
       "1                         S             1.0  \n",
       "2                         S             0.0  \n",
       "3                         S             0.0  \n",
       "4                         S             1.0  "
      ]
     },
     "execution_count": 7,
     "metadata": {},
     "output_type": "execute_result"
    }
   ],
   "source": [
    "df.head()"
   ]
  },
  {
   "cell_type": "code",
   "execution_count": 8,
   "id": "64c8da81",
   "metadata": {},
   "outputs": [
    {
     "data": {
      "text/plain": [
       "id_do_caso                           0\n",
       "continente                           0\n",
       "educacao_do_empregado                0\n",
       "tem_experiencia_de_trabalho          0\n",
       "requer_treinamento_de_trabalho       0\n",
       "num_de_empregados                    0\n",
       "ano_de_estabelecimento               0\n",
       "regiao_de_emprego                    0\n",
       "salario_prevalecente                 0\n",
       "unidade_de_salario                   0\n",
       "posicao_em_tempo_integral            0\n",
       "status_do_caso                    7644\n",
       "dtype: int64"
      ]
     },
     "execution_count": 8,
     "metadata": {},
     "output_type": "execute_result"
    }
   ],
   "source": [
    "df.isnull().sum()"
   ]
  },
  {
   "cell_type": "code",
   "execution_count": 9,
   "id": "d1261a9c",
   "metadata": {},
   "outputs": [
    {
     "name": "stdout",
     "output_type": "stream",
     "text": [
      "<class 'pandas.core.frame.DataFrame'>\n",
      "Int64Index: 25480 entries, 0 to 7643\n",
      "Data columns (total 12 columns):\n",
      " #   Column                          Non-Null Count  Dtype  \n",
      "---  ------                          --------------  -----  \n",
      " 0   id_do_caso                      25480 non-null  object \n",
      " 1   continente                      25480 non-null  object \n",
      " 2   educacao_do_empregado           25480 non-null  object \n",
      " 3   tem_experiencia_de_trabalho     25480 non-null  object \n",
      " 4   requer_treinamento_de_trabalho  25480 non-null  object \n",
      " 5   num_de_empregados               25480 non-null  int64  \n",
      " 6   ano_de_estabelecimento          25480 non-null  int64  \n",
      " 7   regiao_de_emprego               25480 non-null  object \n",
      " 8   salario_prevalecente            25480 non-null  float64\n",
      " 9   unidade_de_salario              25480 non-null  object \n",
      " 10  posicao_em_tempo_integral       25480 non-null  object \n",
      " 11  status_do_caso                  17836 non-null  float64\n",
      "dtypes: float64(2), int64(2), object(8)\n",
      "memory usage: 2.5+ MB\n"
     ]
    }
   ],
   "source": [
    "df.info()"
   ]
  },
  {
   "cell_type": "markdown",
   "id": "7984eb60",
   "metadata": {},
   "source": [
    "## Feature Engineering\n",
    "\n",
    "É o processo de criação de novas características utilizando as características existentes no conjunto de dados. Neste processo, as características existentes são manipuladas ou combinadas para tornar os dados mais significativos, melhorar o desempenho do modelo e obter melhores resultados."
   ]
  },
  {
   "cell_type": "markdown",
   "id": "251c6e97",
   "metadata": {},
   "source": [
    "---------------"
   ]
  },
  {
   "cell_type": "markdown",
   "id": "e3c0d0cd",
   "metadata": {},
   "source": [
    "Neste caso, atribuí um valor de 1 para o ensino secundário, 3 para o mestrado, 2 para o ensino superior e 4 para o doutoramento, porque é mais lógico que todos os Estados aceitem pessoas com formação superior."
   ]
  },
  {
   "cell_type": "code",
   "execution_count": 10,
   "id": "9812733b",
   "metadata": {},
   "outputs": [
    {
     "data": {
      "text/plain": [
       "array([1, 3, 2, 4], dtype=int64)"
      ]
     },
     "execution_count": 10,
     "metadata": {},
     "output_type": "execute_result"
    }
   ],
   "source": [
    "d = {'Ensino Médio':1, 'Mestrado':3, 'Ensino Superior':2, 'Doutorado':4}\n",
    "df[\"educacao_do_empregado\"]=df[\"educacao_do_empregado\"].map(d)\n",
    "df[\"educacao_do_empregado\"].unique()"
   ]
  },
  {
   "cell_type": "markdown",
   "id": "86f6c45f",
   "metadata": {},
   "source": [
    "----------"
   ]
  },
  {
   "cell_type": "markdown",
   "id": "26120e30",
   "metadata": {},
   "source": [
    "Se o trabalhador tem experiência profissional. S = Sim, ou seja, 1; N = Não, ou seja, 0."
   ]
  },
  {
   "cell_type": "code",
   "execution_count": 11,
   "id": "dcad3271",
   "metadata": {},
   "outputs": [
    {
     "data": {
      "text/plain": [
       "array([0, 1], dtype=int64)"
      ]
     },
     "execution_count": 11,
     "metadata": {},
     "output_type": "execute_result"
    }
   ],
   "source": [
    "d = {\"S\":1,\"N\":0}\n",
    "df[\"tem_experiencia_de_trabalho\"]=df[\"tem_experiencia_de_trabalho\"].map(d)\n",
    "df[\"tem_experiencia_de_trabalho\"].unique()"
   ]
  },
  {
   "cell_type": "markdown",
   "id": "6c467ae3",
   "metadata": {},
   "source": [
    "------------"
   ]
  },
  {
   "cell_type": "markdown",
   "id": "b02a36b5",
   "metadata": {},
   "source": [
    "Se o trabalhador necessita de formação profissional. S = Sim, ou seja, 0; N = Não, ou seja, 1. Porque, se precisar de formação, está em desvantagem em relação aos que não precisam."
   ]
  },
  {
   "cell_type": "code",
   "execution_count": 12,
   "id": "0ba82fd6",
   "metadata": {},
   "outputs": [
    {
     "data": {
      "text/plain": [
       "array([0, 1], dtype=int64)"
      ]
     },
     "execution_count": 12,
     "metadata": {},
     "output_type": "execute_result"
    }
   ],
   "source": [
    "d={\"S\":0,\"N\":1}\n",
    "df[\"requer_treinamento_de_trabalho\"]=df[\"requer_treinamento_de_trabalho\"].map(d)\n",
    "df[\"requer_treinamento_de_trabalho\"].unique()"
   ]
  },
  {
   "cell_type": "markdown",
   "id": "cc2496c7",
   "metadata": {},
   "source": [
    "-------"
   ]
  },
  {
   "cell_type": "markdown",
   "id": "4cfaa599",
   "metadata": {},
   "source": [
    "num_of_employees e year_of_establishment: Utilizando estas duas propriedades, pode criar uma nova propriedade chamada \"average_annual_employee_growth\". Esta propriedade mostra a rapidez com que a empresa tem crescido ao longo dos anos."
   ]
  },
  {
   "cell_type": "code",
   "execution_count": 13,
   "id": "4ef5026b",
   "metadata": {},
   "outputs": [],
   "source": [
    "df['ano_de_estabelecimento'] = 2023 - df['ano_de_estabelecimento']"
   ]
  },
  {
   "cell_type": "markdown",
   "id": "7fbd472e",
   "metadata": {},
   "source": [
    "---------------"
   ]
  },
  {
   "cell_type": "markdown",
   "id": "fec24010",
   "metadata": {},
   "source": [
    "Calculei o salário anual utilizando as colunas \"salário_prevalecente\" (salário actual) e \"unidade_de_salário\" (unidade salarial).\n",
    "\n",
    "Em primeiro lugar, é necessário verificar qual é a unidade de salário. Se a unidade de salário for horária, semanal ou mensal, temos de a converter em salário anual. Por exemplo, podemos normalmente multiplicar o salário por hora por 2080 (40 horas/semana * 52 semanas/ano) para converter o salário por hora em salário anual, multiplicar o salário semanal por 52 (52 semanas/ano) para converter o salário semanal em salário anual e multiplicar o salário mensal por 12 (12 meses/ano) para converter o salário mensal em salário anual. Se a unidade salarial já for anual, não é necessário alterar o salário."
   ]
  },
  {
   "cell_type": "code",
   "execution_count": 14,
   "id": "775c1588",
   "metadata": {},
   "outputs": [],
   "source": [
    "df.loc[df['unidade_de_salario'] == 'Hora', 'salario_prevalecente'] *= 2080\n",
    "df.loc[df['unidade_de_salario'] == 'Semana', 'salario_prevalecente'] *= 52\n",
    "df.loc[df['unidade_de_salario'] == 'Mes', 'salario_prevalecente'] *= 12\n",
    "df['salario_anual'] = df['salario_prevalecente']"
   ]
  },
  {
   "cell_type": "markdown",
   "id": "3d4716b1",
   "metadata": {},
   "source": [
    "-------"
   ]
  },
  {
   "cell_type": "markdown",
   "id": "87b2ea4f",
   "metadata": {},
   "source": [
    "Analisei o impacto do trabalho a tempo inteiro ou a tempo parcial no salário combinando o atributo \"Impact of Employment Status on Salary\", ou seja, o atributo \"posição_em_tempo_integral\" e o atributo \"salário_anual\"."
   ]
  },
  {
   "cell_type": "code",
   "execution_count": 15,
   "id": "b903091e",
   "metadata": {},
   "outputs": [],
   "source": [
    "df['posicao_em_tempo_integral'] = df['posicao_em_tempo_integral'].map({'S': 1, 'N': 0})\n",
    "df['efeito_salario_emprego'] = df['salario_anual'] * df['posicao_em_tempo_integral']"
   ]
  },
  {
   "cell_type": "markdown",
   "id": "9b50a6c7",
   "metadata": {},
   "source": [
    "-------------"
   ]
  },
  {
   "cell_type": "markdown",
   "id": "bc4da7ca",
   "metadata": {},
   "source": [
    "educação_do_empregado e tem_experiência_de_trabalho: Se estas colunas contiverem dados categóricos, combinei estas duas propriedades para criar uma nova propriedade chamada \"mão-de-obra qualificada\"."
   ]
  },
  {
   "cell_type": "code",
   "execution_count": 16,
   "id": "711d2935",
   "metadata": {},
   "outputs": [],
   "source": [
    "df['qualificado_trabalho'] = df['educacao_do_empregado'] + df['tem_experiencia_de_trabalho']"
   ]
  },
  {
   "cell_type": "markdown",
   "id": "9d3698f6",
   "metadata": {},
   "source": [
    "--------"
   ]
  },
  {
   "cell_type": "code",
   "execution_count": 17,
   "id": "b8c12ae2",
   "metadata": {},
   "outputs": [],
   "source": [
    "del df[\"id_do_caso\"]\n",
    "data = pd.get_dummies(df,drop_first=True)"
   ]
  },
  {
   "cell_type": "markdown",
   "id": "ca142579",
   "metadata": {},
   "source": [
    "-------"
   ]
  },
  {
   "cell_type": "code",
   "execution_count": 18,
   "id": "d2073db5",
   "metadata": {},
   "outputs": [],
   "source": [
    "train = data[:17836]\n",
    "test = data[17836:]"
   ]
  },
  {
   "cell_type": "code",
   "execution_count": 19,
   "id": "e066bb33",
   "metadata": {},
   "outputs": [],
   "source": [
    "x = train.drop(\"status_do_caso\",axis=1)\n",
    "y = train[\"status_do_caso\"]"
   ]
  },
  {
   "cell_type": "code",
   "execution_count": 20,
   "id": "86c8a610",
   "metadata": {},
   "outputs": [],
   "source": [
    "# A new function including all Regression models is created.\n",
    "# We can see R_Squared, RMSE and MAE of all Regression Models\n",
    "\n",
    "def algo_test(x,y):\n",
    "    gauss = GaussianNB()\n",
    "    kneClas = KNeighborsClassifier()\n",
    "    svc = SVC()\n",
    "    bernoulli = BernoulliNB()\n",
    "    randForestClas= RandomForestClassifier()\n",
    "    gradBoodClas = GradientBoostingClassifier()\n",
    "    logReg = LogisticRegression()\n",
    "    decTreeClas = DecisionTreeClassifier()\n",
    "    \n",
    "    sm = SMOTE(random_state=42)\n",
    "    x_res, y_res = sm.fit_resample(x, y)\n",
    "    x_train, x_test, y_train, y_test = train_test_split(x_res, y_res, test_size=0.2, random_state=42)\n",
    "    \n",
    "    algos = [gauss,kneClas,svc,bernoulli,randForestClas,gradBoodClas,logReg,decTreeClas]\n",
    "    algo_names = [\"GaussianNB\",\"KNeighborsClassifier\",\"SVC\",\"BernoulliNB\",\"RandomForestClassifier\",\"GradientBoostingClassifier\",\"LogisticRegression\",\"DecisionTreeClassifier\"]\n",
    "    ac_sc = []\n",
    "    con_mat = []\n",
    "    clas_rep = []\n",
    "    \n",
    "    result = pd.DataFrame(columns = [\"Accuracy_Score\",\"Confusion_Matrix\",\"Classification_Report\"],index = algo_names)\n",
    "    \n",
    "    for algo in algos:\n",
    "        algo.fit(x_train,y_train)\n",
    "        ac_sc.append(accuracy_score(algo.predict(x_test),y_test))\n",
    "        con_mat.append(confusion_matrix(algo.predict(x_test),y_test))\n",
    "        clas_rep.append(classification_report(algo.predict(x_test),y_test))\n",
    "        \n",
    "    result.Accuracy_Score =ac_sc\n",
    "    result.Confusion_Matrix = con_mat\n",
    "    result.Classification_Report = clas_rep\n",
    "    return result.sort_values(\"Accuracy_Score\", ascending=False)"
   ]
  },
  {
   "cell_type": "code",
   "execution_count": 21,
   "id": "5b2cc20d",
   "metadata": {},
   "outputs": [
    {
     "ename": "NameError",
     "evalue": "name 'X_train' is not defined",
     "output_type": "error",
     "traceback": [
      "\u001b[1;31m---------------------------------------------------------------------------\u001b[0m",
      "\u001b[1;31mNameError\u001b[0m                                 Traceback (most recent call last)",
      "Cell \u001b[1;32mIn[21], line 3\u001b[0m\n\u001b[0;32m      1\u001b[0m \u001b[38;5;66;03m# Testing Classification Models\u001b[39;00m\n\u001b[1;32m----> 3\u001b[0m \u001b[43malgo_test\u001b[49m\u001b[43m(\u001b[49m\u001b[43mx\u001b[49m\u001b[43m,\u001b[49m\u001b[43my\u001b[49m\u001b[43m)\u001b[49m\n",
      "Cell \u001b[1;32mIn[20], line 23\u001b[0m, in \u001b[0;36malgo_test\u001b[1;34m(x, y)\u001b[0m\n\u001b[0;32m     18\u001b[0m model2 \u001b[38;5;241m=\u001b[39m GradientBoostingClassifier()\n\u001b[0;32m     21\u001b[0m ensemble \u001b[38;5;241m=\u001b[39m VotingClassifier(estimators\u001b[38;5;241m=\u001b[39m[(\u001b[38;5;124m'\u001b[39m\u001b[38;5;124mRandom Forest\u001b[39m\u001b[38;5;124m'\u001b[39m, model1), (\u001b[38;5;124m'\u001b[39m\u001b[38;5;124mGradient Boosting\u001b[39m\u001b[38;5;124m'\u001b[39m, model2)], voting\u001b[38;5;241m=\u001b[39m\u001b[38;5;124m'\u001b[39m\u001b[38;5;124msoft\u001b[39m\u001b[38;5;124m'\u001b[39m)\n\u001b[1;32m---> 23\u001b[0m ensemble\u001b[38;5;241m.\u001b[39mfit(\u001b[43mX_train\u001b[49m, y_train)\n\u001b[0;32m     25\u001b[0m y_pred \u001b[38;5;241m=\u001b[39m ensemble\u001b[38;5;241m.\u001b[39mpredict(X_test)\n\u001b[0;32m     27\u001b[0m algos \u001b[38;5;241m=\u001b[39m [gauss,kneClas,svc,bernoulli,randForestClas,gradBoodClas,logReg,decTreeClas]\n",
      "\u001b[1;31mNameError\u001b[0m: name 'X_train' is not defined"
     ]
    }
   ],
   "source": [
    "# Testing Classification Models\n",
    "\n",
    "algo_test(x,y)"
   ]
  },
  {
   "cell_type": "code",
   "execution_count": 26,
   "id": "82e991c3",
   "metadata": {},
   "outputs": [],
   "source": [
    "sm = SMOTE(random_state=42)\n",
    "x_res, y_res = sm.fit_resample(x, y)\n",
    "x_train, x_test, y_train, y_test = train_test_split(x, y, test_size=0.2, random_state=42)\n",
    "model1 = RandomForestClassifier()\n",
    "model2 = GradientBoostingClassifier()\n",
    "\n",
    "# Ensemble model\n",
    "ensemble = VotingClassifier(estimators=[('Random Forest', model1), ('Gradient Boosting', model2)], voting='soft')\n",
    "\n",
    "ensemble.fit(x_train, y_train)\n",
    "\n",
    "# Tahmin yapılıyor\n",
    "guess = ensemble.predict(x_test)"
   ]
  },
  {
   "cell_type": "code",
   "execution_count": 23,
   "id": "1f389290",
   "metadata": {},
   "outputs": [
    {
     "name": "stdout",
     "output_type": "stream",
     "text": [
      "              precision    recall  f1-score   support\n",
      "\n",
      "         0.0       0.80      0.78      0.79      2364\n",
      "         1.0       0.79      0.81      0.80      2411\n",
      "\n",
      "    accuracy                           0.79      4775\n",
      "   macro avg       0.79      0.79      0.79      4775\n",
      "weighted avg       0.79      0.79      0.79      4775\n",
      "\n"
     ]
    }
   ],
   "source": [
    "print(classification_report(y_test, guess))"
   ]
  },
  {
   "cell_type": "code",
   "execution_count": 29,
   "id": "485e986a",
   "metadata": {},
   "outputs": [],
   "source": [
    "if len(guess) != len(df_test):\n",
    "    # Eksik kısımları en sık rastlanan sınıf (mode) ile doldurabiliriz.\n",
    "    mode_class = np.argmax(np.bincount(y_train))\n",
    "    difference = len(df_test) - len(guess)\n",
    "    guess = np.concatenate((guess, np.full(difference, mode_class)))"
   ]
  },
  {
   "cell_type": "code",
   "execution_count": 30,
   "id": "22bc308a",
   "metadata": {},
   "outputs": [
    {
     "data": {
      "text/html": [
       "<div>\n",
       "<style scoped>\n",
       "    .dataframe tbody tr th:only-of-type {\n",
       "        vertical-align: middle;\n",
       "    }\n",
       "\n",
       "    .dataframe tbody tr th {\n",
       "        vertical-align: top;\n",
       "    }\n",
       "\n",
       "    .dataframe thead th {\n",
       "        text-align: right;\n",
       "    }\n",
       "</style>\n",
       "<table border=\"1\" class=\"dataframe\">\n",
       "  <thead>\n",
       "    <tr style=\"text-align: right;\">\n",
       "      <th></th>\n",
       "      <th>id_do_caso</th>\n",
       "      <th>status_do_caso</th>\n",
       "    </tr>\n",
       "  </thead>\n",
       "  <tbody>\n",
       "    <tr>\n",
       "      <th>0</th>\n",
       "      <td>EZYV22339</td>\n",
       "      <td>1.0</td>\n",
       "    </tr>\n",
       "    <tr>\n",
       "      <th>1</th>\n",
       "      <td>EZYV9333</td>\n",
       "      <td>1.0</td>\n",
       "    </tr>\n",
       "    <tr>\n",
       "      <th>2</th>\n",
       "      <td>EZYV9740</td>\n",
       "      <td>1.0</td>\n",
       "    </tr>\n",
       "    <tr>\n",
       "      <th>3</th>\n",
       "      <td>EZYV3328</td>\n",
       "      <td>1.0</td>\n",
       "    </tr>\n",
       "    <tr>\n",
       "      <th>4</th>\n",
       "      <td>EZYV12321</td>\n",
       "      <td>1.0</td>\n",
       "    </tr>\n",
       "    <tr>\n",
       "      <th>...</th>\n",
       "      <td>...</td>\n",
       "      <td>...</td>\n",
       "    </tr>\n",
       "    <tr>\n",
       "      <th>7639</th>\n",
       "      <td>EZYV19907</td>\n",
       "      <td>1.0</td>\n",
       "    </tr>\n",
       "    <tr>\n",
       "      <th>7640</th>\n",
       "      <td>EZYV576</td>\n",
       "      <td>1.0</td>\n",
       "    </tr>\n",
       "    <tr>\n",
       "      <th>7641</th>\n",
       "      <td>EZYV1804</td>\n",
       "      <td>1.0</td>\n",
       "    </tr>\n",
       "    <tr>\n",
       "      <th>7642</th>\n",
       "      <td>EZYV13543</td>\n",
       "      <td>1.0</td>\n",
       "    </tr>\n",
       "    <tr>\n",
       "      <th>7643</th>\n",
       "      <td>EZYV17903</td>\n",
       "      <td>1.0</td>\n",
       "    </tr>\n",
       "  </tbody>\n",
       "</table>\n",
       "<p>7644 rows × 2 columns</p>\n",
       "</div>"
      ],
      "text/plain": [
       "     id_do_caso  status_do_caso\n",
       "0     EZYV22339             1.0\n",
       "1      EZYV9333             1.0\n",
       "2      EZYV9740             1.0\n",
       "3      EZYV3328             1.0\n",
       "4     EZYV12321             1.0\n",
       "...         ...             ...\n",
       "7639  EZYV19907             1.0\n",
       "7640    EZYV576             1.0\n",
       "7641   EZYV1804             1.0\n",
       "7642  EZYV13543             1.0\n",
       "7643  EZYV17903             1.0\n",
       "\n",
       "[7644 rows x 2 columns]"
      ]
     },
     "execution_count": 30,
     "metadata": {},
     "output_type": "execute_result"
    }
   ],
   "source": [
    "result = pd.DataFrame()\n",
    "result[\"id_do_caso\"] =df_test[\"id_do_caso\"]\n",
    "result[\"status_do_caso\"] = guess\n",
    "result"
   ]
  },
  {
   "cell_type": "code",
   "execution_count": 31,
   "id": "9b154c2c",
   "metadata": {},
   "outputs": [],
   "source": [
    "result[\"status_do_caso\"] = result[\"status_do_caso\"].astype('int32')"
   ]
  },
  {
   "cell_type": "code",
   "execution_count": 32,
   "id": "9bc4e068",
   "metadata": {},
   "outputs": [
    {
     "data": {
      "text/html": [
       "<div>\n",
       "<style scoped>\n",
       "    .dataframe tbody tr th:only-of-type {\n",
       "        vertical-align: middle;\n",
       "    }\n",
       "\n",
       "    .dataframe tbody tr th {\n",
       "        vertical-align: top;\n",
       "    }\n",
       "\n",
       "    .dataframe thead th {\n",
       "        text-align: right;\n",
       "    }\n",
       "</style>\n",
       "<table border=\"1\" class=\"dataframe\">\n",
       "  <thead>\n",
       "    <tr style=\"text-align: right;\">\n",
       "      <th></th>\n",
       "      <th>id_do_caso</th>\n",
       "      <th>status_do_caso</th>\n",
       "    </tr>\n",
       "  </thead>\n",
       "  <tbody>\n",
       "    <tr>\n",
       "      <th>0</th>\n",
       "      <td>EZYV22339</td>\n",
       "      <td>1</td>\n",
       "    </tr>\n",
       "    <tr>\n",
       "      <th>1</th>\n",
       "      <td>EZYV9333</td>\n",
       "      <td>1</td>\n",
       "    </tr>\n",
       "    <tr>\n",
       "      <th>2</th>\n",
       "      <td>EZYV9740</td>\n",
       "      <td>1</td>\n",
       "    </tr>\n",
       "    <tr>\n",
       "      <th>3</th>\n",
       "      <td>EZYV3328</td>\n",
       "      <td>1</td>\n",
       "    </tr>\n",
       "    <tr>\n",
       "      <th>4</th>\n",
       "      <td>EZYV12321</td>\n",
       "      <td>1</td>\n",
       "    </tr>\n",
       "    <tr>\n",
       "      <th>...</th>\n",
       "      <td>...</td>\n",
       "      <td>...</td>\n",
       "    </tr>\n",
       "    <tr>\n",
       "      <th>7639</th>\n",
       "      <td>EZYV19907</td>\n",
       "      <td>1</td>\n",
       "    </tr>\n",
       "    <tr>\n",
       "      <th>7640</th>\n",
       "      <td>EZYV576</td>\n",
       "      <td>1</td>\n",
       "    </tr>\n",
       "    <tr>\n",
       "      <th>7641</th>\n",
       "      <td>EZYV1804</td>\n",
       "      <td>1</td>\n",
       "    </tr>\n",
       "    <tr>\n",
       "      <th>7642</th>\n",
       "      <td>EZYV13543</td>\n",
       "      <td>1</td>\n",
       "    </tr>\n",
       "    <tr>\n",
       "      <th>7643</th>\n",
       "      <td>EZYV17903</td>\n",
       "      <td>1</td>\n",
       "    </tr>\n",
       "  </tbody>\n",
       "</table>\n",
       "<p>7644 rows × 2 columns</p>\n",
       "</div>"
      ],
      "text/plain": [
       "     id_do_caso  status_do_caso\n",
       "0     EZYV22339               1\n",
       "1      EZYV9333               1\n",
       "2      EZYV9740               1\n",
       "3      EZYV3328               1\n",
       "4     EZYV12321               1\n",
       "...         ...             ...\n",
       "7639  EZYV19907               1\n",
       "7640    EZYV576               1\n",
       "7641   EZYV1804               1\n",
       "7642  EZYV13543               1\n",
       "7643  EZYV17903               1\n",
       "\n",
       "[7644 rows x 2 columns]"
      ]
     },
     "execution_count": 32,
     "metadata": {},
     "output_type": "execute_result"
    }
   ],
   "source": [
    "result"
   ]
  },
  {
   "cell_type": "code",
   "execution_count": 33,
   "id": "0a40a722",
   "metadata": {},
   "outputs": [],
   "source": [
    "result.to_csv(\"sample_submission.csv\",index=False)"
   ]
  },
  {
   "cell_type": "code",
   "execution_count": 40,
   "id": "f4277cad",
   "metadata": {},
   "outputs": [],
   "source": [
    "\n",
    "import pandas as pd\n",
    "pd.set_option(\"display.max_columns\",100)\n",
    "import numpy as np\n",
    "\n",
    "          # Vizulation\n",
    "import plotly.express as px\n",
    "import seaborn as sns\n",
    "import matplotlib.pyplot as plt\n",
    "\n",
    "         # Scaling Model\n",
    "from sklearn.preprocessing import StandardScaler\n",
    "\n",
    "\n",
    "         # Clsassification Models\n",
    "from sklearn.naive_bayes import GaussianNB, BernoulliNB\n",
    "from sklearn.svm import SVC\n",
    "from sklearn.ensemble import RandomForestClassifier, GradientBoostingClassifier\n",
    "from sklearn.neighbors import KNeighborsClassifier\n",
    "from sklearn.linear_model import LogisticRegression\n",
    "from sklearn.tree import DecisionTreeClassifier, ExtraTreeRegressor\n",
    "\n",
    "          # Modelling\n",
    "from sklearn.model_selection import train_test_split\n",
    "\n",
    "          # Testing\n",
    "from sklearn.metrics import accuracy_score, confusion_matrix,classification_report\n",
    "\n",
    "\n",
    "\n",
    "from imblearn.over_sampling import SMOTE\n",
    "from sklearn.ensemble import VotingClassifier\n",
    "\n",
    "         # Deep Learning\n",
    "from tensorflow.keras.models import Sequential\n",
    "from tensorflow.keras.layers import Dense\n",
    "\n",
    "import warnings\n",
    "warnings.filterwarnings(\"ignore\")\n",
    "\n",
    "\n",
    "df = pd.read_csv(\"train.csv\")\n",
    "\n",
    "d = {'Negado':0, 'Aprovado':1}\n",
    "df[\"status_do_caso\"]=df[\"status_do_caso\"].map(d)\n",
    "df_test = pd.read_csv(\"test.csv\")\n",
    "df = df.append(df_test)\n",
    "\n",
    "\n",
    "d = {'Ensino Médio':1, 'Mestrado':3, 'Ensino Superior':2, 'Doutorado':4}\n",
    "df[\"educacao_do_empregado\"]=df[\"educacao_do_empregado\"].map(d)\n",
    "\n",
    "d = {\"S\":1,\"N\":0}\n",
    "df[\"tem_experiencia_de_trabalho\"]=df[\"tem_experiencia_de_trabalho\"].map(d)\n",
    "\n",
    "\n",
    "d={\"S\":0,\"N\":1}\n",
    "df[\"requer_treinamento_de_trabalho\"]=df[\"requer_treinamento_de_trabalho\"].map(d)\n",
    "\n",
    "df['ano_de_estabelecimento'] = 2023 - df['ano_de_estabelecimento']\n",
    "\n",
    "df.loc[df['unidade_de_salario'] == 'Hora', 'salario_prevalecente'] *= 2080\n",
    "df.loc[df['unidade_de_salario'] == 'Semana', 'salario_prevalecente'] *= 52\n",
    "df.loc[df['unidade_de_salario'] == 'Mes', 'salario_prevalecente'] *= 12\n",
    "df['salario_anual'] = df['salario_prevalecente']\n",
    "\n",
    "df['posicao_em_tempo_integral'] = df['posicao_em_tempo_integral'].map({'S': 1, 'N': 0})\n",
    "df['efeito_salario_emprego'] = df['salario_anual'] * df['posicao_em_tempo_integral']\n",
    "\n",
    "df['qualificado_trabalho'] = df['educacao_do_empregado'] + df['tem_experiencia_de_trabalho']\n",
    "del df[\"id_do_caso\"]\n",
    "data = pd.get_dummies(df,drop_first=True)\n",
    "train = data[:17836]\n",
    "test = data[17836:]\n",
    "x = train.drop(\"status_do_caso\",axis=1)\n",
    "y = train[\"status_do_caso\"]\n",
    "\n",
    "sm = SMOTE(random_state=42)\n",
    "x_res, y_res = sm.fit_resample(x, y)\n",
    "x_train, x_test, y_train, y_test = train_test_split(x_res, y_res, test_size=0.2, random_state=42)\n",
    "model1 = RandomForestClassifier()\n",
    "model2 = GradientBoostingClassifier()\n",
    "\n",
    "ensemble = VotingClassifier(estimators=[('Random Forest', model1), ('Gradient Boosting', model2)], voting='soft')\n",
    "test_data = test.drop(\"status_do_caso\",axis=1)\n",
    "ensemble.fit(x_train, y_train)\n",
    "\n",
    "guess = ensemble.predict(test_data)"
   ]
  },
  {
   "cell_type": "code",
   "execution_count": 42,
   "id": "9beff768",
   "metadata": {},
   "outputs": [],
   "source": [
    "result = pd.DataFrame()\n",
    "result[\"id_do_caso\"] =df_test[\"id_do_caso\"]\n",
    "result[\"status_do_caso\"] = guess\n",
    "result[\"status_do_caso\"] = result[\"status_do_caso\"].astype('int32')\n",
    "result.to_csv(\"sample_ensamble.csv\",index=False)"
   ]
  },
  {
   "cell_type": "code",
   "execution_count": 43,
   "id": "dffe23db",
   "metadata": {},
   "outputs": [
    {
     "data": {
      "text/html": [
       "<div>\n",
       "<style scoped>\n",
       "    .dataframe tbody tr th:only-of-type {\n",
       "        vertical-align: middle;\n",
       "    }\n",
       "\n",
       "    .dataframe tbody tr th {\n",
       "        vertical-align: top;\n",
       "    }\n",
       "\n",
       "    .dataframe thead th {\n",
       "        text-align: right;\n",
       "    }\n",
       "</style>\n",
       "<table border=\"1\" class=\"dataframe\">\n",
       "  <thead>\n",
       "    <tr style=\"text-align: right;\">\n",
       "      <th></th>\n",
       "      <th>id_do_caso</th>\n",
       "      <th>status_do_caso</th>\n",
       "    </tr>\n",
       "  </thead>\n",
       "  <tbody>\n",
       "    <tr>\n",
       "      <th>0</th>\n",
       "      <td>EZYV22339</td>\n",
       "      <td>1</td>\n",
       "    </tr>\n",
       "    <tr>\n",
       "      <th>1</th>\n",
       "      <td>EZYV9333</td>\n",
       "      <td>1</td>\n",
       "    </tr>\n",
       "    <tr>\n",
       "      <th>2</th>\n",
       "      <td>EZYV9740</td>\n",
       "      <td>1</td>\n",
       "    </tr>\n",
       "    <tr>\n",
       "      <th>3</th>\n",
       "      <td>EZYV3328</td>\n",
       "      <td>1</td>\n",
       "    </tr>\n",
       "    <tr>\n",
       "      <th>4</th>\n",
       "      <td>EZYV12321</td>\n",
       "      <td>1</td>\n",
       "    </tr>\n",
       "    <tr>\n",
       "      <th>...</th>\n",
       "      <td>...</td>\n",
       "      <td>...</td>\n",
       "    </tr>\n",
       "    <tr>\n",
       "      <th>7639</th>\n",
       "      <td>EZYV19907</td>\n",
       "      <td>0</td>\n",
       "    </tr>\n",
       "    <tr>\n",
       "      <th>7640</th>\n",
       "      <td>EZYV576</td>\n",
       "      <td>0</td>\n",
       "    </tr>\n",
       "    <tr>\n",
       "      <th>7641</th>\n",
       "      <td>EZYV1804</td>\n",
       "      <td>1</td>\n",
       "    </tr>\n",
       "    <tr>\n",
       "      <th>7642</th>\n",
       "      <td>EZYV13543</td>\n",
       "      <td>1</td>\n",
       "    </tr>\n",
       "    <tr>\n",
       "      <th>7643</th>\n",
       "      <td>EZYV17903</td>\n",
       "      <td>1</td>\n",
       "    </tr>\n",
       "  </tbody>\n",
       "</table>\n",
       "<p>7644 rows × 2 columns</p>\n",
       "</div>"
      ],
      "text/plain": [
       "     id_do_caso  status_do_caso\n",
       "0     EZYV22339               1\n",
       "1      EZYV9333               1\n",
       "2      EZYV9740               1\n",
       "3      EZYV3328               1\n",
       "4     EZYV12321               1\n",
       "...         ...             ...\n",
       "7639  EZYV19907               0\n",
       "7640    EZYV576               0\n",
       "7641   EZYV1804               1\n",
       "7642  EZYV13543               1\n",
       "7643  EZYV17903               1\n",
       "\n",
       "[7644 rows x 2 columns]"
      ]
     },
     "execution_count": 43,
     "metadata": {},
     "output_type": "execute_result"
    }
   ],
   "source": [
    "result"
   ]
  },
  {
   "cell_type": "code",
   "execution_count": 41,
   "id": "81634c46",
   "metadata": {},
   "outputs": [
    {
     "name": "stdout",
     "output_type": "stream",
     "text": [
      "7644\n",
      "7644\n"
     ]
    }
   ],
   "source": [
    "print(len(guess))\n",
    "print(len(df_test))"
   ]
  },
  {
   "cell_type": "code",
   "execution_count": 38,
   "id": "06ac353c",
   "metadata": {},
   "outputs": [],
   "source": [
    "\n",
    "import pandas as pd\n",
    "pd.set_option(\"display.max_columns\",100)\n",
    "import numpy as np\n",
    "\n",
    "\n",
    "\n",
    "         # Clsassification Models\n",
    "from sklearn.naive_bayes import GaussianNB, BernoulliNB\n",
    "from sklearn.svm import SVC\n",
    "from sklearn.ensemble import RandomForestClassifier, GradientBoostingClassifier\n",
    "from sklearn.neighbors import KNeighborsClassifier\n",
    "from sklearn.linear_model import LogisticRegression\n",
    "from sklearn.tree import DecisionTreeClassifier, ExtraTreeRegressor\n",
    "\n",
    "          # Modelling\n",
    "from sklearn.model_selection import train_test_split\n",
    "\n",
    "          # Testing\n",
    "from sklearn.metrics import accuracy_score, confusion_matrix,classification_report\n",
    "\n",
    "\n",
    "\n",
    "from imblearn.over_sampling import SMOTE\n",
    "from sklearn.ensemble import VotingClassifier\n",
    "\n",
    "         # Deep Learning\n",
    "from tensorflow.keras.models import Sequential\n",
    "from tensorflow.keras.layers import Dense\n",
    "\n",
    "import warnings\n",
    "warnings.filterwarnings(\"ignore\")\n",
    "\n",
    "\n",
    "df = pd.read_csv(\"train.csv\")\n",
    "\n",
    "d = {'Negado':0, 'Aprovado':1}\n",
    "df[\"status_do_caso\"]=df[\"status_do_caso\"].map(d)\n",
    "df_test = pd.read_csv(\"test.csv\")\n",
    "df = df.append(df_test)\n",
    "\n",
    "\n",
    "d = {'Ensino Médio':1, 'Mestrado':3, 'Ensino Superior':2, 'Doutorado':4}\n",
    "df[\"educacao_do_empregado\"]=df[\"educacao_do_empregado\"].map(d)\n",
    "\n",
    "d = {\"S\":1,\"N\":0}\n",
    "df[\"tem_experiencia_de_trabalho\"]=df[\"tem_experiencia_de_trabalho\"].map(d)\n",
    "\n",
    "\n",
    "d={\"S\":0,\"N\":1}\n",
    "df[\"requer_treinamento_de_trabalho\"]=df[\"requer_treinamento_de_trabalho\"].map(d)\n",
    "\n",
    "df['ano_de_estabelecimento'] = 2023 - df['ano_de_estabelecimento']\n",
    "\n",
    "df.loc[df['unidade_de_salario'] == 'Hora', 'salario_prevalecente'] *= 2080\n",
    "df.loc[df['unidade_de_salario'] == 'Semana', 'salario_prevalecente'] *= 52\n",
    "df.loc[df['unidade_de_salario'] == 'Mes', 'salario_prevalecente'] *= 12\n",
    "df['salario_anual'] = df['salario_prevalecente']\n",
    "\n",
    "df['posicao_em_tempo_integral'] = df['posicao_em_tempo_integral'].map({'S': 1, 'N': 0})\n",
    "df['efeito_salario_emprego'] = df['salario_anual'] * df['posicao_em_tempo_integral']\n",
    "\n",
    "df['qualificado_trabalho'] = df['educacao_do_empregado'] + df['tem_experiencia_de_trabalho']\n",
    "del df[\"id_do_caso\"]\n",
    "data = pd.get_dummies(df,drop_first=True)\n",
    "train = data[:17836]\n",
    "test = data[17836:]\n",
    "x = train.drop(\"status_do_caso\",axis=1)\n",
    "y = train[\"status_do_caso\"]\n",
    "\n",
    "sm = SMOTE(random_state=42)\n",
    "x_res, y_res = sm.fit_resample(x, y)\n",
    "x_train, x_test, y_train, y_test = train_test_split(x_res, y_res, test_size=0.2, random_state=42)\n",
    "gradBoodClas = GradientBoostingClassifier()\n",
    "model =gradBoodClas.fit(x_train,y_train)\n",
    "\n",
    "guess = model.predict(test.drop(\"status_do_caso\",axis=1))"
   ]
  },
  {
   "cell_type": "code",
   "execution_count": 39,
   "id": "36d476b8",
   "metadata": {},
   "outputs": [
    {
     "name": "stdout",
     "output_type": "stream",
     "text": [
      "7644\n",
      "7644\n"
     ]
    }
   ],
   "source": [
    "print(len(guess))\n",
    "print(len(df_test))"
   ]
  },
  {
   "cell_type": "code",
   "execution_count": null,
   "id": "d62eaf7e",
   "metadata": {},
   "outputs": [],
   "source": [
    "from sklearn.model_selection import GridSearchCV\n",
    "\n",
    "\n",
    "param_grid = {\n",
    "    'n_estimators': [100, 200, 300, 500],\n",
    "    'max_depth': [5, 8, 15, 25, 30],\n",
    "    'min_samples_split': [2, 5, 10, 15, 100],\n",
    "    'min_samples_leaf': [1, 2, 5, 10] \n",
    "}\n",
    "\n",
    "rf = RandomForestClassifier()\n",
    "\n",
    "grid_search = GridSearchCV(estimator = rf, param_grid = param_grid, cv = 3, n_jobs = -1, verbose = 2)\n",
    "\n",
    "grid_search.fit(x_train, y_train)\n",
    "# En iyi modeli al\n",
    "best_grid = grid_search.best_estimator_\n",
    "\n",
    "# Test verileri üzerinde tahminler yap\n",
    "grid_predictions = best_grid.predict(test.drop(\"status_do_caso\",axis=1))\n"
   ]
  }
 ],
 "metadata": {
  "kernelspec": {
   "display_name": "Python 3 (ipykernel)",
   "language": "python",
   "name": "python3"
  },
  "language_info": {
   "codemirror_mode": {
    "name": "ipython",
    "version": 3
   },
   "file_extension": ".py",
   "mimetype": "text/x-python",
   "name": "python",
   "nbconvert_exporter": "python",
   "pygments_lexer": "ipython3",
   "version": "3.10.9"
  }
 },
 "nbformat": 4,
 "nbformat_minor": 5
}
