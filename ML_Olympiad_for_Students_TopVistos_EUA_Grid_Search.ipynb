{
  "cells": [
    {
      "cell_type": "markdown",
      "metadata": {
        "id": "6dc109cc"
      },
      "source": [
        "# ML Olympiad for Students - TopVistos EUA"
      ],
      "id": "6dc109cc"
    },
    {
      "cell_type": "markdown",
      "metadata": {
        "id": "500227d7"
      },
      "source": [
        "### Contexto\n",
        "As comunidades empresariais nos Estados Unidos enfrentam uma alta demanda por recursos humanos, mas um dos desafios constantes é identificar e atrair o talento certo, que é talvez o elemento mais importante para se manter competitivo. Empresas nos Estados Unidos procuram indivíduos trabalhadores, talentosos e qualificados tanto localmente quanto no exterior.\n",
        "\n",
        "\n",
        "\n",
        "A Lei de Imigração e Nacionalidade (INA) dos EUA permite que trabalhadores estrangeiros venham trabalhar nos Estados Unidos temporária ou permanentemente. A lei também protege os trabalhadores americanos contra impactos adversos em seus salários ou condições de trabalho, garantindo que os empregadores americanos cumpram os requisitos legais ao contratar trabalhadores estrangeiros para suprir a escassez de mão de obra. Os programas de imigração são administrados pelo Escritório de Certificação de Trabalho Estrangeiro (OFLC).\n",
        "\n",
        "\n",
        "\n",
        "O OFLC processa pedidos de certificação de emprego para empregadores que buscam trazer trabalhadores estrangeiros para os Estados Unidos e concede certificações nos casos em que os empregadores podem demonstrar que não há trabalhadores americanos suficientes disponíveis para realizar o trabalho com salários que atendam ou excedam o salário pago para a ocupação na área de emprego pretendida.\n",
        "\n",
        "\n",
        "\n",
        "### Objetivo\n",
        "No ano fiscal de 2016, o OFLC processou 775.979 pedidos de empregadores para 1.699.957 posições de certificações de trabalho temporárias e permanentes. Isso representou um aumento de nove por cento no número total de pedidos processados em relação ao ano anterior. O processo de revisar cada caso está se tornando uma tarefa tediosa à medida que o número de candidatos aumenta a cada ano.\n",
        "\n",
        "\n",
        "\n",
        "O aumento do número de candidatos a cada ano demanda uma solução baseada em Aprendizado de Máquina que possa ajudar na pré-seleção dos candidatos com maiores chances de aprovação de VISTO. O OFLC contratou sua empresa, TopVistos, para soluções baseadas em dados. Como Cientista de Dados, você deve analisar os dados fornecidos e, com a ajuda de um modelo de classificação:\n",
        "\n",
        "\n",
        "\n",
        "Facilitar o processo de aprovação de vistos.\n",
        "\n",
        "\n",
        "\n",
        "Recomendar um perfil adequado para os candidatos para os quais o visto deve ser certificado ou negado, com base nos fatores que influenciam significativamente o status do caso."
      ],
      "id": "500227d7"
    },
    {
      "cell_type": "markdown",
      "metadata": {
        "id": "6fe35fe3"
      },
      "source": [
        "### Dataset Description\n",
        "\n",
        "Os dados contêm diferentes atributos do empregado e do empregador. O dicionário de dados detalhado é fornecido abaixo.\n",
        "\n",
        "\n",
        "Temos alguns arquivos disponibilizados para o treino dos modelos. Note que para seu modelo ser corretamente avaliado, você precisa enviar os seus dados no formato do arquivo sample_submission.csv.\n",
        "\n",
        "\n",
        "#### Arquivos\n",
        "- **train.csv** - dataset de treino\n",
        "- **test.csv** - dataset de testes\n",
        "- **sample_submission.csv** - um exemplo de como o arquivo enviado deve ser composto\n",
        "\n",
        "#### Dicionário dos Dados\n",
        "\n",
        "- **id_do_caso:** ID de cada solicitação de visto\n",
        "- **continente:** Informação do continente do empregado\n",
        "- **educação_do_empregado:** Informação sobre a educação do empregado\n",
        "- **tem_experiência_de_trabalho:** O empregado possui alguma experiência de trabalho? S = Sim; N = Não\n",
        "- **requer_treinamento_de_trabalho:** O empregado requer algum treinamento de trabalho? S = Sim; N = Não\n",
        "- **num_de_empregados:** Número de funcionários na empresa do empregador\n",
        "- **ano_de_estabelecimento:** Ano em que a empresa do empregador foi estabelecida\n",
        "- **região_de_emprego:** Informação da região de emprego pretendida pelo trabalhador estrangeiro nos EUA.\n",
        "- **salário_prevalecente:** Salário médio pago a trabalhadores em ocupações semelhantes na área de emprego pretendida. O objetivo do salário prevalecente é garantir que o trabalhador estrangeiro não seja subremunerado em comparação com outros trabalhadores que oferecem o mesmo serviço ou serviço similar na mesma área de emprego.\n",
        "- **unidade_de_salário:** Unidade do salário prevalecente. Os valores incluem Por Hora, Por Semana, Por Mês e Por Ano.\n",
        "- **posição_em_tempo_integral:** A posição de trabalho é em tempo integral? S = Posição em Tempo Integral; N = Posição em Meio Período\n",
        "- **status_do_caso:** Indicador se o visto foi certificado ou negado\n"
      ],
      "id": "6fe35fe3"
    },
    {
      "cell_type": "code",
      "execution_count": null,
      "metadata": {
        "id": "f285f0db"
      },
      "outputs": [],
      "source": [
        "import pandas as pd\n",
        "pd.set_option(\"display.max_columns\",100)\n",
        "import numpy as np\n",
        "\n",
        "         # Clsassification Models\n",
        "from sklearn.naive_bayes import GaussianNB, BernoulliNB\n",
        "from sklearn.svm import SVC\n",
        "from sklearn.ensemble import RandomForestClassifier, GradientBoostingClassifier\n",
        "from sklearn.neighbors import KNeighborsClassifier\n",
        "from sklearn.linear_model import LogisticRegression\n",
        "from sklearn.tree import DecisionTreeClassifier, ExtraTreeRegressor\n",
        "\n",
        "          # Modelling\n",
        "from sklearn.model_selection import train_test_split\n",
        "\n",
        "          # Testing\n",
        "from sklearn.metrics import accuracy_score, confusion_matrix,classification_report\n",
        "\n",
        "\n",
        "\n",
        "from imblearn.over_sampling import SMOTE\n",
        "from sklearn.model_selection import GridSearchCV\n",
        "\n",
        "\n",
        "\n",
        "import warnings\n",
        "warnings.filterwarnings(\"ignore\")"
      ],
      "id": "f285f0db"
    },
    {
      "cell_type": "code",
      "execution_count": null,
      "metadata": {
        "id": "aeb2bef1"
      },
      "outputs": [],
      "source": [
        "df = pd.read_csv(\"train.csv\")"
      ],
      "id": "aeb2bef1"
    },
    {
      "cell_type": "code",
      "execution_count": null,
      "metadata": {
        "colab": {
          "base_uri": "https://localhost:8080/"
        },
        "id": "d72a54d5",
        "outputId": "fef4b54e-a38e-497d-df8f-b1fbcd80f945"
      },
      "outputs": [
        {
          "data": {
            "text/plain": [
              "(17836, 12)"
            ]
          },
          "execution_count": 4,
          "metadata": {},
          "output_type": "execute_result"
        }
      ],
      "source": [
        "df.shape"
      ],
      "id": "d72a54d5"
    },
    {
      "cell_type": "markdown",
      "metadata": {
        "id": "5a019cd6"
      },
      "source": [
        "-------------"
      ],
      "id": "5a019cd6"
    },
    {
      "cell_type": "markdown",
      "metadata": {
        "id": "8c1d0387"
      },
      "source": [
        "status_do_caso: Indicador do facto de o visto ter sido aprovado ou não. Criei-o como 'Negado':0, 'Aprovado':1."
      ],
      "id": "8c1d0387"
    },
    {
      "cell_type": "code",
      "execution_count": null,
      "metadata": {
        "colab": {
          "base_uri": "https://localhost:8080/"
        },
        "id": "cb9eef58",
        "outputId": "577663b4-63d2-45f6-fe70-60f1bbc789eb"
      },
      "outputs": [
        {
          "data": {
            "text/plain": [
              "array([0, 1])"
            ]
          },
          "execution_count": 5,
          "metadata": {},
          "output_type": "execute_result"
        }
      ],
      "source": [
        "d = {'Negado':0, 'Aprovado':1}\n",
        "df[\"status_do_caso\"]=df[\"status_do_caso\"].map(d)\n",
        "df[\"status_do_caso\"].unique()"
      ],
      "id": "cb9eef58"
    },
    {
      "cell_type": "markdown",
      "metadata": {
        "id": "7a77f1ea"
      },
      "source": [
        "-----------------"
      ],
      "id": "7a77f1ea"
    },
    {
      "cell_type": "code",
      "execution_count": null,
      "metadata": {
        "id": "302a868b"
      },
      "outputs": [],
      "source": [
        "df_test = pd.read_csv(\"test.csv\")\n",
        "df = df.append(df_test)"
      ],
      "id": "302a868b"
    },
    {
      "cell_type": "code",
      "execution_count": null,
      "metadata": {
        "colab": {
          "base_uri": "https://localhost:8080/"
        },
        "id": "08807d5b",
        "outputId": "1234da42-3874-40f7-d777-f684c7e3d9e8"
      },
      "outputs": [
        {
          "data": {
            "text/plain": [
              "((25480, 12), (7644, 11))"
            ]
          },
          "execution_count": 7,
          "metadata": {},
          "output_type": "execute_result"
        }
      ],
      "source": [
        "df.shape, df_test.shape"
      ],
      "id": "08807d5b"
    },
    {
      "cell_type": "markdown",
      "metadata": {
        "id": "844f6911"
      },
      "source": [
        "## Exploratory Data Analysis\n",
        "\n",
        "É o processo de compreensão, exploração e visualização de dados. Neste processo, iremos limpar os dados, caracterizar e efectuar análises estatísticas, visualizar os dados e interpretar os resultados."
      ],
      "id": "844f6911"
    },
    {
      "cell_type": "code",
      "execution_count": null,
      "metadata": {
        "colab": {
          "base_uri": "https://localhost:8080/",
          "height": 270
        },
        "id": "bc51b346",
        "outputId": "18b8ac73-a6f7-41a5-aa9c-5234e2b38890"
      },
      "outputs": [
        {
          "data": {
            "text/html": [
              "\n",
              "  <div id=\"df-cc0939e1-a777-4e8e-80e4-e4406fbc75a4\">\n",
              "    <div class=\"colab-df-container\">\n",
              "      <div>\n",
              "<style scoped>\n",
              "    .dataframe tbody tr th:only-of-type {\n",
              "        vertical-align: middle;\n",
              "    }\n",
              "\n",
              "    .dataframe tbody tr th {\n",
              "        vertical-align: top;\n",
              "    }\n",
              "\n",
              "    .dataframe thead th {\n",
              "        text-align: right;\n",
              "    }\n",
              "</style>\n",
              "<table border=\"1\" class=\"dataframe\">\n",
              "  <thead>\n",
              "    <tr style=\"text-align: right;\">\n",
              "      <th></th>\n",
              "      <th>id_do_caso</th>\n",
              "      <th>continente</th>\n",
              "      <th>educacao_do_empregado</th>\n",
              "      <th>tem_experiencia_de_trabalho</th>\n",
              "      <th>requer_treinamento_de_trabalho</th>\n",
              "      <th>num_de_empregados</th>\n",
              "      <th>ano_de_estabelecimento</th>\n",
              "      <th>regiao_de_emprego</th>\n",
              "      <th>salario_prevalecente</th>\n",
              "      <th>unidade_de_salario</th>\n",
              "      <th>posicao_em_tempo_integral</th>\n",
              "      <th>status_do_caso</th>\n",
              "    </tr>\n",
              "  </thead>\n",
              "  <tbody>\n",
              "    <tr>\n",
              "      <th>0</th>\n",
              "      <td>EZYV10567</td>\n",
              "      <td>Europa</td>\n",
              "      <td>Ensino Médio</td>\n",
              "      <td>N</td>\n",
              "      <td>S</td>\n",
              "      <td>2087</td>\n",
              "      <td>1855</td>\n",
              "      <td>Sul</td>\n",
              "      <td>69711.24</td>\n",
              "      <td>Ano</td>\n",
              "      <td>S</td>\n",
              "      <td>0.0</td>\n",
              "    </tr>\n",
              "    <tr>\n",
              "      <th>1</th>\n",
              "      <td>EZYV5505</td>\n",
              "      <td>Ásia</td>\n",
              "      <td>Mestrado</td>\n",
              "      <td>S</td>\n",
              "      <td>N</td>\n",
              "      <td>5991</td>\n",
              "      <td>2003</td>\n",
              "      <td>Meio-Oeste</td>\n",
              "      <td>52931.38</td>\n",
              "      <td>Ano</td>\n",
              "      <td>S</td>\n",
              "      <td>1.0</td>\n",
              "    </tr>\n",
              "    <tr>\n",
              "      <th>2</th>\n",
              "      <td>EZYV5207</td>\n",
              "      <td>Ásia</td>\n",
              "      <td>Ensino Médio</td>\n",
              "      <td>N</td>\n",
              "      <td>N</td>\n",
              "      <td>1426</td>\n",
              "      <td>2000</td>\n",
              "      <td>Ilha</td>\n",
              "      <td>110830.21</td>\n",
              "      <td>Ano</td>\n",
              "      <td>S</td>\n",
              "      <td>0.0</td>\n",
              "    </tr>\n",
              "    <tr>\n",
              "      <th>3</th>\n",
              "      <td>EZYV7545</td>\n",
              "      <td>Ásia</td>\n",
              "      <td>Ensino Médio</td>\n",
              "      <td>N</td>\n",
              "      <td>N</td>\n",
              "      <td>3846</td>\n",
              "      <td>1992</td>\n",
              "      <td>Meio-Oeste</td>\n",
              "      <td>91884.68</td>\n",
              "      <td>Semana</td>\n",
              "      <td>S</td>\n",
              "      <td>0.0</td>\n",
              "    </tr>\n",
              "    <tr>\n",
              "      <th>4</th>\n",
              "      <td>EZYV16071</td>\n",
              "      <td>Ásia</td>\n",
              "      <td>Ensino Superior</td>\n",
              "      <td>S</td>\n",
              "      <td>N</td>\n",
              "      <td>3957</td>\n",
              "      <td>1949</td>\n",
              "      <td>Nordeste</td>\n",
              "      <td>138155.24</td>\n",
              "      <td>Ano</td>\n",
              "      <td>S</td>\n",
              "      <td>1.0</td>\n",
              "    </tr>\n",
              "  </tbody>\n",
              "</table>\n",
              "</div>\n",
              "      <button class=\"colab-df-convert\" onclick=\"convertToInteractive('df-cc0939e1-a777-4e8e-80e4-e4406fbc75a4')\"\n",
              "              title=\"Convert this dataframe to an interactive table.\"\n",
              "              style=\"display:none;\">\n",
              "        \n",
              "  <svg xmlns=\"http://www.w3.org/2000/svg\" height=\"24px\"viewBox=\"0 0 24 24\"\n",
              "       width=\"24px\">\n",
              "    <path d=\"M0 0h24v24H0V0z\" fill=\"none\"/>\n",
              "    <path d=\"M18.56 5.44l.94 2.06.94-2.06 2.06-.94-2.06-.94-.94-2.06-.94 2.06-2.06.94zm-11 1L8.5 8.5l.94-2.06 2.06-.94-2.06-.94L8.5 2.5l-.94 2.06-2.06.94zm10 10l.94 2.06.94-2.06 2.06-.94-2.06-.94-.94-2.06-.94 2.06-2.06.94z\"/><path d=\"M17.41 7.96l-1.37-1.37c-.4-.4-.92-.59-1.43-.59-.52 0-1.04.2-1.43.59L10.3 9.45l-7.72 7.72c-.78.78-.78 2.05 0 2.83L4 21.41c.39.39.9.59 1.41.59.51 0 1.02-.2 1.41-.59l7.78-7.78 2.81-2.81c.8-.78.8-2.07 0-2.86zM5.41 20L4 18.59l7.72-7.72 1.47 1.35L5.41 20z\"/>\n",
              "  </svg>\n",
              "      </button>\n",
              "      \n",
              "  <style>\n",
              "    .colab-df-container {\n",
              "      display:flex;\n",
              "      flex-wrap:wrap;\n",
              "      gap: 12px;\n",
              "    }\n",
              "\n",
              "    .colab-df-convert {\n",
              "      background-color: #E8F0FE;\n",
              "      border: none;\n",
              "      border-radius: 50%;\n",
              "      cursor: pointer;\n",
              "      display: none;\n",
              "      fill: #1967D2;\n",
              "      height: 32px;\n",
              "      padding: 0 0 0 0;\n",
              "      width: 32px;\n",
              "    }\n",
              "\n",
              "    .colab-df-convert:hover {\n",
              "      background-color: #E2EBFA;\n",
              "      box-shadow: 0px 1px 2px rgba(60, 64, 67, 0.3), 0px 1px 3px 1px rgba(60, 64, 67, 0.15);\n",
              "      fill: #174EA6;\n",
              "    }\n",
              "\n",
              "    [theme=dark] .colab-df-convert {\n",
              "      background-color: #3B4455;\n",
              "      fill: #D2E3FC;\n",
              "    }\n",
              "\n",
              "    [theme=dark] .colab-df-convert:hover {\n",
              "      background-color: #434B5C;\n",
              "      box-shadow: 0px 1px 3px 1px rgba(0, 0, 0, 0.15);\n",
              "      filter: drop-shadow(0px 1px 2px rgba(0, 0, 0, 0.3));\n",
              "      fill: #FFFFFF;\n",
              "    }\n",
              "  </style>\n",
              "\n",
              "      <script>\n",
              "        const buttonEl =\n",
              "          document.querySelector('#df-cc0939e1-a777-4e8e-80e4-e4406fbc75a4 button.colab-df-convert');\n",
              "        buttonEl.style.display =\n",
              "          google.colab.kernel.accessAllowed ? 'block' : 'none';\n",
              "\n",
              "        async function convertToInteractive(key) {\n",
              "          const element = document.querySelector('#df-cc0939e1-a777-4e8e-80e4-e4406fbc75a4');\n",
              "          const dataTable =\n",
              "            await google.colab.kernel.invokeFunction('convertToInteractive',\n",
              "                                                     [key], {});\n",
              "          if (!dataTable) return;\n",
              "\n",
              "          const docLinkHtml = 'Like what you see? Visit the ' +\n",
              "            '<a target=\"_blank\" href=https://colab.research.google.com/notebooks/data_table.ipynb>data table notebook</a>'\n",
              "            + ' to learn more about interactive tables.';\n",
              "          element.innerHTML = '';\n",
              "          dataTable['output_type'] = 'display_data';\n",
              "          await google.colab.output.renderOutput(dataTable, element);\n",
              "          const docLink = document.createElement('div');\n",
              "          docLink.innerHTML = docLinkHtml;\n",
              "          element.appendChild(docLink);\n",
              "        }\n",
              "      </script>\n",
              "    </div>\n",
              "  </div>\n",
              "  "
            ],
            "text/plain": [
              "  id_do_caso continente educacao_do_empregado tem_experiencia_de_trabalho  \\\n",
              "0  EZYV10567     Europa          Ensino Médio                           N   \n",
              "1   EZYV5505       Ásia              Mestrado                           S   \n",
              "2   EZYV5207       Ásia          Ensino Médio                           N   \n",
              "3   EZYV7545       Ásia          Ensino Médio                           N   \n",
              "4  EZYV16071       Ásia       Ensino Superior                           S   \n",
              "\n",
              "  requer_treinamento_de_trabalho  num_de_empregados  ano_de_estabelecimento  \\\n",
              "0                              S               2087                    1855   \n",
              "1                              N               5991                    2003   \n",
              "2                              N               1426                    2000   \n",
              "3                              N               3846                    1992   \n",
              "4                              N               3957                    1949   \n",
              "\n",
              "  regiao_de_emprego  salario_prevalecente unidade_de_salario  \\\n",
              "0               Sul              69711.24                Ano   \n",
              "1        Meio-Oeste              52931.38                Ano   \n",
              "2              Ilha             110830.21                Ano   \n",
              "3        Meio-Oeste              91884.68             Semana   \n",
              "4          Nordeste             138155.24                Ano   \n",
              "\n",
              "  posicao_em_tempo_integral  status_do_caso  \n",
              "0                         S             0.0  \n",
              "1                         S             1.0  \n",
              "2                         S             0.0  \n",
              "3                         S             0.0  \n",
              "4                         S             1.0  "
            ]
          },
          "execution_count": 8,
          "metadata": {},
          "output_type": "execute_result"
        }
      ],
      "source": [
        "df.head()"
      ],
      "id": "bc51b346"
    },
    {
      "cell_type": "code",
      "execution_count": null,
      "metadata": {
        "colab": {
          "base_uri": "https://localhost:8080/"
        },
        "id": "64c8da81",
        "outputId": "30cf5ba3-c69f-4650-d635-f0c83e6592f1"
      },
      "outputs": [
        {
          "data": {
            "text/plain": [
              "id_do_caso                           0\n",
              "continente                           0\n",
              "educacao_do_empregado                0\n",
              "tem_experiencia_de_trabalho          0\n",
              "requer_treinamento_de_trabalho       0\n",
              "num_de_empregados                    0\n",
              "ano_de_estabelecimento               0\n",
              "regiao_de_emprego                    0\n",
              "salario_prevalecente                 0\n",
              "unidade_de_salario                   0\n",
              "posicao_em_tempo_integral            0\n",
              "status_do_caso                    7644\n",
              "dtype: int64"
            ]
          },
          "execution_count": 9,
          "metadata": {},
          "output_type": "execute_result"
        }
      ],
      "source": [
        "df.isnull().sum()"
      ],
      "id": "64c8da81"
    },
    {
      "cell_type": "code",
      "execution_count": null,
      "metadata": {
        "colab": {
          "base_uri": "https://localhost:8080/"
        },
        "id": "d1261a9c",
        "outputId": "cecc9367-5f76-40b8-ac14-b69e48d8ba49"
      },
      "outputs": [
        {
          "name": "stdout",
          "output_type": "stream",
          "text": [
            "<class 'pandas.core.frame.DataFrame'>\n",
            "Int64Index: 25480 entries, 0 to 7643\n",
            "Data columns (total 12 columns):\n",
            " #   Column                          Non-Null Count  Dtype  \n",
            "---  ------                          --------------  -----  \n",
            " 0   id_do_caso                      25480 non-null  object \n",
            " 1   continente                      25480 non-null  object \n",
            " 2   educacao_do_empregado           25480 non-null  object \n",
            " 3   tem_experiencia_de_trabalho     25480 non-null  object \n",
            " 4   requer_treinamento_de_trabalho  25480 non-null  object \n",
            " 5   num_de_empregados               25480 non-null  int64  \n",
            " 6   ano_de_estabelecimento          25480 non-null  int64  \n",
            " 7   regiao_de_emprego               25480 non-null  object \n",
            " 8   salario_prevalecente            25480 non-null  float64\n",
            " 9   unidade_de_salario              25480 non-null  object \n",
            " 10  posicao_em_tempo_integral       25480 non-null  object \n",
            " 11  status_do_caso                  17836 non-null  float64\n",
            "dtypes: float64(2), int64(2), object(8)\n",
            "memory usage: 2.5+ MB\n"
          ]
        }
      ],
      "source": [
        "df.info()"
      ],
      "id": "d1261a9c"
    },
    {
      "cell_type": "markdown",
      "metadata": {
        "id": "7984eb60"
      },
      "source": [
        "## Feature Engineering\n",
        "\n",
        "É o processo de criação de novas características utilizando as características existentes no conjunto de dados. Neste processo, as características existentes são manipuladas ou combinadas para tornar os dados mais significativos, melhorar o desempenho do modelo e obter melhores resultados."
      ],
      "id": "7984eb60"
    },
    {
      "cell_type": "markdown",
      "metadata": {
        "id": "251c6e97"
      },
      "source": [
        "---------------"
      ],
      "id": "251c6e97"
    },
    {
      "cell_type": "markdown",
      "metadata": {
        "id": "e3c0d0cd"
      },
      "source": [
        "Neste caso, atribuí um valor de 1 para o ensino secundário, 3 para o mestrado, 2 para o ensino superior e 4 para o doutoramento, porque é mais lógico que todos os Estados aceitem pessoas com formação superior."
      ],
      "id": "e3c0d0cd"
    },
    {
      "cell_type": "code",
      "execution_count": null,
      "metadata": {
        "colab": {
          "base_uri": "https://localhost:8080/"
        },
        "id": "9812733b",
        "outputId": "159d3e28-24da-4ce6-9898-dcf91eaf12e6"
      },
      "outputs": [
        {
          "data": {
            "text/plain": [
              "array([1, 3, 2, 4])"
            ]
          },
          "execution_count": 11,
          "metadata": {},
          "output_type": "execute_result"
        }
      ],
      "source": [
        "d = {'Ensino Médio':1, 'Mestrado':3, 'Ensino Superior':2, 'Doutorado':4}\n",
        "df[\"educacao_do_empregado\"]=df[\"educacao_do_empregado\"].map(d)\n",
        "df[\"educacao_do_empregado\"].unique()"
      ],
      "id": "9812733b"
    },
    {
      "cell_type": "markdown",
      "metadata": {
        "id": "86f6c45f"
      },
      "source": [
        "----------"
      ],
      "id": "86f6c45f"
    },
    {
      "cell_type": "markdown",
      "metadata": {
        "id": "26120e30"
      },
      "source": [
        "Se o trabalhador tem experiência profissional. S = Sim, ou seja, 1; N = Não, ou seja, 0."
      ],
      "id": "26120e30"
    },
    {
      "cell_type": "code",
      "execution_count": null,
      "metadata": {
        "colab": {
          "base_uri": "https://localhost:8080/"
        },
        "id": "dcad3271",
        "outputId": "47474e2e-52a9-4454-a79b-1de6bc90bdb1"
      },
      "outputs": [
        {
          "data": {
            "text/plain": [
              "array([0, 1])"
            ]
          },
          "execution_count": 12,
          "metadata": {},
          "output_type": "execute_result"
        }
      ],
      "source": [
        "d = {\"S\":1,\"N\":0}\n",
        "df[\"tem_experiencia_de_trabalho\"]=df[\"tem_experiencia_de_trabalho\"].map(d)\n",
        "df[\"tem_experiencia_de_trabalho\"].unique()"
      ],
      "id": "dcad3271"
    },
    {
      "cell_type": "markdown",
      "metadata": {
        "id": "6c467ae3"
      },
      "source": [
        "------------"
      ],
      "id": "6c467ae3"
    },
    {
      "cell_type": "markdown",
      "metadata": {
        "id": "b02a36b5"
      },
      "source": [
        "Se o trabalhador necessita de formação profissional. S = Sim, ou seja, 0; N = Não, ou seja, 1. Porque, se precisar de formação, está em desvantagem em relação aos que não precisam."
      ],
      "id": "b02a36b5"
    },
    {
      "cell_type": "code",
      "execution_count": null,
      "metadata": {
        "colab": {
          "base_uri": "https://localhost:8080/"
        },
        "id": "0ba82fd6",
        "outputId": "6637f0d1-953b-4eed-a4cf-73daff2c7df2"
      },
      "outputs": [
        {
          "data": {
            "text/plain": [
              "array([1, 0])"
            ]
          },
          "execution_count": 13,
          "metadata": {},
          "output_type": "execute_result"
        }
      ],
      "source": [
        "d={\"S\":1,\"N\":0}\n",
        "df[\"requer_treinamento_de_trabalho\"]=df[\"requer_treinamento_de_trabalho\"].map(d)\n",
        "df[\"requer_treinamento_de_trabalho\"].unique()"
      ],
      "id": "0ba82fd6"
    },
    {
      "cell_type": "markdown",
      "metadata": {
        "id": "cc2496c7"
      },
      "source": [
        "-------"
      ],
      "id": "cc2496c7"
    },
    {
      "cell_type": "markdown",
      "metadata": {
        "id": "4cfaa599"
      },
      "source": [
        "num_of_employees e year_of_establishment: Utilizando estas duas propriedades, pode criar uma nova propriedade chamada \"average_annual_employee_growth\". Esta propriedade mostra a rapidez com que a empresa tem crescido ao longo dos anos."
      ],
      "id": "4cfaa599"
    },
    {
      "cell_type": "code",
      "execution_count": null,
      "metadata": {
        "id": "4ef5026b"
      },
      "outputs": [],
      "source": [
        "df['ano_de_estabelecimento'] = 2023 - df['ano_de_estabelecimento']"
      ],
      "id": "4ef5026b"
    },
    {
      "cell_type": "markdown",
      "metadata": {
        "id": "7fbd472e"
      },
      "source": [
        "---------------"
      ],
      "id": "7fbd472e"
    },
    {
      "cell_type": "markdown",
      "metadata": {
        "id": "fec24010"
      },
      "source": [
        "Calculei o salário anual utilizando as colunas \"salário_prevalecente\" (salário actual) e \"unidade_de_salário\" (unidade salarial).\n",
        "\n",
        "Em primeiro lugar, é necessário verificar qual é a unidade de salário. Se a unidade de salário for horária, semanal ou mensal, temos de a converter em salário anual. Por exemplo, podemos normalmente multiplicar o salário por hora por 2080 (40 horas/semana * 52 semanas/ano) para converter o salário por hora em salário anual, multiplicar o salário semanal por 52 (52 semanas/ano) para converter o salário semanal em salário anual e multiplicar o salário mensal por 12 (12 meses/ano) para converter o salário mensal em salário anual. Se a unidade salarial já for anual, não é necessário alterar o salário."
      ],
      "id": "fec24010"
    },
    {
      "cell_type": "code",
      "execution_count": null,
      "metadata": {
        "id": "775c1588"
      },
      "outputs": [],
      "source": [
        "df.loc[df['unidade_de_salario'] == 'Hora', 'salario_prevalecente'] *= 2080\n",
        "df.loc[df['unidade_de_salario'] == 'Semana', 'salario_prevalecente'] *= 52\n",
        "df.loc[df['unidade_de_salario'] == 'Mes', 'salario_prevalecente'] *= 12\n",
        "df['salario_anual'] = df['salario_prevalecente']"
      ],
      "id": "775c1588"
    },
    {
      "cell_type": "markdown",
      "metadata": {
        "id": "3d4716b1"
      },
      "source": [
        "-------"
      ],
      "id": "3d4716b1"
    },
    {
      "cell_type": "markdown",
      "metadata": {
        "id": "87b2ea4f"
      },
      "source": [
        "Analisei o impacto do trabalho a tempo inteiro ou a tempo parcial no salário combinando o atributo \"Impact of Employment Status on Salary\", ou seja, o atributo \"posição_em_tempo_integral\" e o atributo \"salário_anual\"."
      ],
      "id": "87b2ea4f"
    },
    {
      "cell_type": "code",
      "execution_count": null,
      "metadata": {
        "id": "b903091e"
      },
      "outputs": [],
      "source": [
        "df['posicao_em_tempo_integral'] = df['posicao_em_tempo_integral'].map({'S': 1, 'N': 0})\n",
        "df['efeito_salario_emprego'] = df['salario_anual'] * df['posicao_em_tempo_integral']"
      ],
      "id": "b903091e"
    },
    {
      "cell_type": "markdown",
      "metadata": {
        "id": "9b50a6c7"
      },
      "source": [
        "-------------"
      ],
      "id": "9b50a6c7"
    },
    {
      "cell_type": "markdown",
      "metadata": {
        "id": "bc4da7ca"
      },
      "source": [
        "educação_do_empregado e tem_experiência_de_trabalho: Se estas colunas contiverem dados categóricos, combinei estas duas propriedades para criar uma nova propriedade chamada \"mão-de-obra qualificada\"."
      ],
      "id": "bc4da7ca"
    },
    {
      "cell_type": "code",
      "execution_count": null,
      "metadata": {
        "id": "711d2935"
      },
      "outputs": [],
      "source": [
        "df['qualificado_trabalho'] = df['educacao_do_empregado'] + df['tem_experiencia_de_trabalho']"
      ],
      "id": "711d2935"
    },
    {
      "cell_type": "markdown",
      "metadata": {
        "id": "b06041b4"
      },
      "source": [
        "-------------"
      ],
      "id": "b06041b4"
    },
    {
      "cell_type": "code",
      "execution_count": null,
      "metadata": {
        "id": "c088659a"
      },
      "outputs": [],
      "source": [],
      "id": "c088659a"
    },
    {
      "cell_type": "code",
      "execution_count": null,
      "metadata": {
        "id": "46d8ae74"
      },
      "outputs": [],
      "source": [],
      "id": "46d8ae74"
    },
    {
      "cell_type": "markdown",
      "metadata": {
        "id": "051ca483"
      },
      "source": [
        "------------"
      ],
      "id": "051ca483"
    },
    {
      "cell_type": "markdown",
      "metadata": {
        "id": "1201b499"
      },
      "source": [
        "empresa_grande: num_de_empregados özelliğini kullanarak, firmanın büyük bir firma olup olmadığını belirleyebiliriz. Genellikle daha büyük firmaların vize başvuruları daha olasıdır."
      ],
      "id": "1201b499"
    },
    {
      "cell_type": "code",
      "execution_count": null,
      "metadata": {
        "id": "f8ae5eb3"
      },
      "outputs": [],
      "source": [
        "df['empresa_grande'] = df['num_de_empregados'].apply(lambda x: 1 if x > 500 else 0)"
      ],
      "id": "f8ae5eb3"
    },
    {
      "cell_type": "markdown",
      "metadata": {
        "id": "3ae234b7"
      },
      "source": [
        "-------------"
      ],
      "id": "3ae234b7"
    },
    {
      "cell_type": "markdown",
      "metadata": {
        "id": "26db0d34"
      },
      "source": [
        "salario_em_relacao_ao_num_de_empregados: dividindo a propriedade salario_prevalecente pela propriedade num_de_empregados, obtém-se o salário médio de cada empregado. Isto dá uma ideia da política salarial global da empresa."
      ],
      "id": "26db0d34"
    },
    {
      "cell_type": "code",
      "execution_count": null,
      "metadata": {
        "id": "3f199c6b"
      },
      "outputs": [],
      "source": [
        "df['salario_em_relacao_ao_num_de_empregados'] = df['salario_prevalecente'] / df['num_de_empregados']"
      ],
      "id": "3f199c6b"
    },
    {
      "cell_type": "markdown",
      "metadata": {
        "id": "15278c1d"
      },
      "source": [
        "----------------"
      ],
      "id": "15278c1d"
    },
    {
      "cell_type": "markdown",
      "metadata": {
        "id": "cc566b88"
      },
      "source": [
        "requer_treinamento_de_trabalho e tem_experiencia_de_trabalho: Ao combinar estas duas características, ajuda a compreender melhor a capacidade de um empregado para fazer o trabalho. Se um empregado tem experiência de trabalho mas ainda precisa de formação no local de trabalho, isso talvez indique que o empregado não tem um conjunto de competências específicas."
      ],
      "id": "cc566b88"
    },
    {
      "cell_type": "code",
      "execution_count": null,
      "metadata": {
        "id": "79b1aef3"
      },
      "outputs": [],
      "source": [
        "df['trabalho_e_experiencia'] = df['requer_treinamento_de_trabalho'] + df['tem_experiencia_de_trabalho']"
      ],
      "id": "79b1aef3"
    },
    {
      "cell_type": "markdown",
      "metadata": {
        "id": "a7cade48"
      },
      "source": [
        "--------------"
      ],
      "id": "a7cade48"
    },
    {
      "cell_type": "markdown",
      "metadata": {
        "id": "2a9b88f1"
      },
      "source": [
        "salario_abaixo_media: Esta propriedade determina se o salário do candidato a emprego é inferior ao salário médio de outros empregados em empregos semelhantes."
      ],
      "id": "2a9b88f1"
    },
    {
      "cell_type": "code",
      "execution_count": null,
      "metadata": {
        "id": "31e6b1fd"
      },
      "outputs": [],
      "source": [
        "media_salario = df['salario_prevalecente'].mean()\n",
        "df['salario_abaixo_media'] = df['salario_prevalecente'].apply(lambda x: 1 if x < media_salario else 0)"
      ],
      "id": "31e6b1fd"
    },
    {
      "cell_type": "markdown",
      "metadata": {
        "id": "9d3698f6"
      },
      "source": [
        "--------"
      ],
      "id": "9d3698f6"
    },
    {
      "cell_type": "code",
      "execution_count": null,
      "metadata": {
        "colab": {
          "base_uri": "https://localhost:8080/",
          "height": 522
        },
        "id": "91c64707",
        "outputId": "71eca9cb-e7dc-408c-d9c4-a0b54b46c56c"
      },
      "outputs": [
        {
          "data": {
            "text/html": [
              "\n",
              "  <div id=\"df-e3b3700b-2fca-4809-8afd-892106be0cd4\">\n",
              "    <div class=\"colab-df-container\">\n",
              "      <div>\n",
              "<style scoped>\n",
              "    .dataframe tbody tr th:only-of-type {\n",
              "        vertical-align: middle;\n",
              "    }\n",
              "\n",
              "    .dataframe tbody tr th {\n",
              "        vertical-align: top;\n",
              "    }\n",
              "\n",
              "    .dataframe thead th {\n",
              "        text-align: right;\n",
              "    }\n",
              "</style>\n",
              "<table border=\"1\" class=\"dataframe\">\n",
              "  <thead>\n",
              "    <tr style=\"text-align: right;\">\n",
              "      <th></th>\n",
              "      <th>id_do_caso</th>\n",
              "      <th>continente</th>\n",
              "      <th>educacao_do_empregado</th>\n",
              "      <th>tem_experiencia_de_trabalho</th>\n",
              "      <th>requer_treinamento_de_trabalho</th>\n",
              "      <th>num_de_empregados</th>\n",
              "      <th>ano_de_estabelecimento</th>\n",
              "      <th>regiao_de_emprego</th>\n",
              "      <th>salario_prevalecente</th>\n",
              "      <th>unidade_de_salario</th>\n",
              "      <th>posicao_em_tempo_integral</th>\n",
              "      <th>status_do_caso</th>\n",
              "      <th>salario_anual</th>\n",
              "      <th>efeito_salario_emprego</th>\n",
              "      <th>qualificado_trabalho</th>\n",
              "      <th>empresa_grande</th>\n",
              "      <th>salario_em_relacao_ao_num_de_empregados</th>\n",
              "      <th>trabalho_e_experiencia</th>\n",
              "      <th>salario_abaixo_media</th>\n",
              "    </tr>\n",
              "  </thead>\n",
              "  <tbody>\n",
              "    <tr>\n",
              "      <th>0</th>\n",
              "      <td>EZYV10567</td>\n",
              "      <td>Europa</td>\n",
              "      <td>1</td>\n",
              "      <td>0</td>\n",
              "      <td>1</td>\n",
              "      <td>2087</td>\n",
              "      <td>168</td>\n",
              "      <td>Sul</td>\n",
              "      <td>69711.24</td>\n",
              "      <td>Ano</td>\n",
              "      <td>1</td>\n",
              "      <td>0.0</td>\n",
              "      <td>69711.24</td>\n",
              "      <td>69711.24</td>\n",
              "      <td>1</td>\n",
              "      <td>1</td>\n",
              "      <td>33.402607</td>\n",
              "      <td>1</td>\n",
              "      <td>1</td>\n",
              "    </tr>\n",
              "    <tr>\n",
              "      <th>1</th>\n",
              "      <td>EZYV5505</td>\n",
              "      <td>Ásia</td>\n",
              "      <td>3</td>\n",
              "      <td>1</td>\n",
              "      <td>0</td>\n",
              "      <td>5991</td>\n",
              "      <td>20</td>\n",
              "      <td>Meio-Oeste</td>\n",
              "      <td>52931.38</td>\n",
              "      <td>Ano</td>\n",
              "      <td>1</td>\n",
              "      <td>1.0</td>\n",
              "      <td>52931.38</td>\n",
              "      <td>52931.38</td>\n",
              "      <td>4</td>\n",
              "      <td>1</td>\n",
              "      <td>8.835149</td>\n",
              "      <td>1</td>\n",
              "      <td>1</td>\n",
              "    </tr>\n",
              "    <tr>\n",
              "      <th>2</th>\n",
              "      <td>EZYV5207</td>\n",
              "      <td>Ásia</td>\n",
              "      <td>1</td>\n",
              "      <td>0</td>\n",
              "      <td>0</td>\n",
              "      <td>1426</td>\n",
              "      <td>23</td>\n",
              "      <td>Ilha</td>\n",
              "      <td>110830.21</td>\n",
              "      <td>Ano</td>\n",
              "      <td>1</td>\n",
              "      <td>0.0</td>\n",
              "      <td>110830.21</td>\n",
              "      <td>110830.21</td>\n",
              "      <td>1</td>\n",
              "      <td>1</td>\n",
              "      <td>77.721045</td>\n",
              "      <td>0</td>\n",
              "      <td>1</td>\n",
              "    </tr>\n",
              "    <tr>\n",
              "      <th>3</th>\n",
              "      <td>EZYV7545</td>\n",
              "      <td>Ásia</td>\n",
              "      <td>1</td>\n",
              "      <td>0</td>\n",
              "      <td>0</td>\n",
              "      <td>3846</td>\n",
              "      <td>31</td>\n",
              "      <td>Meio-Oeste</td>\n",
              "      <td>4778003.36</td>\n",
              "      <td>Semana</td>\n",
              "      <td>1</td>\n",
              "      <td>0.0</td>\n",
              "      <td>4778003.36</td>\n",
              "      <td>4778003.36</td>\n",
              "      <td>1</td>\n",
              "      <td>1</td>\n",
              "      <td>1242.330567</td>\n",
              "      <td>0</td>\n",
              "      <td>0</td>\n",
              "    </tr>\n",
              "    <tr>\n",
              "      <th>4</th>\n",
              "      <td>EZYV16071</td>\n",
              "      <td>Ásia</td>\n",
              "      <td>2</td>\n",
              "      <td>1</td>\n",
              "      <td>0</td>\n",
              "      <td>3957</td>\n",
              "      <td>74</td>\n",
              "      <td>Nordeste</td>\n",
              "      <td>138155.24</td>\n",
              "      <td>Ano</td>\n",
              "      <td>1</td>\n",
              "      <td>1.0</td>\n",
              "      <td>138155.24</td>\n",
              "      <td>138155.24</td>\n",
              "      <td>3</td>\n",
              "      <td>1</td>\n",
              "      <td>34.914137</td>\n",
              "      <td>1</td>\n",
              "      <td>1</td>\n",
              "    </tr>\n",
              "    <tr>\n",
              "      <th>...</th>\n",
              "      <td>...</td>\n",
              "      <td>...</td>\n",
              "      <td>...</td>\n",
              "      <td>...</td>\n",
              "      <td>...</td>\n",
              "      <td>...</td>\n",
              "      <td>...</td>\n",
              "      <td>...</td>\n",
              "      <td>...</td>\n",
              "      <td>...</td>\n",
              "      <td>...</td>\n",
              "      <td>...</td>\n",
              "      <td>...</td>\n",
              "      <td>...</td>\n",
              "      <td>...</td>\n",
              "      <td>...</td>\n",
              "      <td>...</td>\n",
              "      <td>...</td>\n",
              "      <td>...</td>\n",
              "    </tr>\n",
              "    <tr>\n",
              "      <th>7639</th>\n",
              "      <td>EZYV19907</td>\n",
              "      <td>América do Norte</td>\n",
              "      <td>2</td>\n",
              "      <td>0</td>\n",
              "      <td>0</td>\n",
              "      <td>66</td>\n",
              "      <td>15</td>\n",
              "      <td>Oeste</td>\n",
              "      <td>146845.92</td>\n",
              "      <td>Hora</td>\n",
              "      <td>1</td>\n",
              "      <td>NaN</td>\n",
              "      <td>146845.92</td>\n",
              "      <td>146845.92</td>\n",
              "      <td>2</td>\n",
              "      <td>0</td>\n",
              "      <td>2224.938182</td>\n",
              "      <td>0</td>\n",
              "      <td>1</td>\n",
              "    </tr>\n",
              "    <tr>\n",
              "      <th>7640</th>\n",
              "      <td>EZYV576</td>\n",
              "      <td>Ásia</td>\n",
              "      <td>1</td>\n",
              "      <td>1</td>\n",
              "      <td>0</td>\n",
              "      <td>4040</td>\n",
              "      <td>29</td>\n",
              "      <td>Meio-Oeste</td>\n",
              "      <td>60158.59</td>\n",
              "      <td>Ano</td>\n",
              "      <td>1</td>\n",
              "      <td>NaN</td>\n",
              "      <td>60158.59</td>\n",
              "      <td>60158.59</td>\n",
              "      <td>2</td>\n",
              "      <td>1</td>\n",
              "      <td>14.890740</td>\n",
              "      <td>1</td>\n",
              "      <td>1</td>\n",
              "    </tr>\n",
              "    <tr>\n",
              "      <th>7641</th>\n",
              "      <td>EZYV1804</td>\n",
              "      <td>Ásia</td>\n",
              "      <td>3</td>\n",
              "      <td>1</td>\n",
              "      <td>0</td>\n",
              "      <td>32503</td>\n",
              "      <td>98</td>\n",
              "      <td>Sul</td>\n",
              "      <td>44555.12</td>\n",
              "      <td>Ano</td>\n",
              "      <td>1</td>\n",
              "      <td>NaN</td>\n",
              "      <td>44555.12</td>\n",
              "      <td>44555.12</td>\n",
              "      <td>4</td>\n",
              "      <td>1</td>\n",
              "      <td>1.370800</td>\n",
              "      <td>1</td>\n",
              "      <td>1</td>\n",
              "    </tr>\n",
              "    <tr>\n",
              "      <th>7642</th>\n",
              "      <td>EZYV13543</td>\n",
              "      <td>América do Norte</td>\n",
              "      <td>3</td>\n",
              "      <td>1</td>\n",
              "      <td>0</td>\n",
              "      <td>1894</td>\n",
              "      <td>23</td>\n",
              "      <td>Sul</td>\n",
              "      <td>97830.73</td>\n",
              "      <td>Ano</td>\n",
              "      <td>1</td>\n",
              "      <td>NaN</td>\n",
              "      <td>97830.73</td>\n",
              "      <td>97830.73</td>\n",
              "      <td>4</td>\n",
              "      <td>1</td>\n",
              "      <td>51.652973</td>\n",
              "      <td>1</td>\n",
              "      <td>1</td>\n",
              "    </tr>\n",
              "    <tr>\n",
              "      <th>7643</th>\n",
              "      <td>EZYV17903</td>\n",
              "      <td>Ásia</td>\n",
              "      <td>2</td>\n",
              "      <td>1</td>\n",
              "      <td>0</td>\n",
              "      <td>3676</td>\n",
              "      <td>16</td>\n",
              "      <td>Oeste</td>\n",
              "      <td>7215.39</td>\n",
              "      <td>Ano</td>\n",
              "      <td>1</td>\n",
              "      <td>NaN</td>\n",
              "      <td>7215.39</td>\n",
              "      <td>7215.39</td>\n",
              "      <td>3</td>\n",
              "      <td>1</td>\n",
              "      <td>1.962837</td>\n",
              "      <td>1</td>\n",
              "      <td>1</td>\n",
              "    </tr>\n",
              "  </tbody>\n",
              "</table>\n",
              "<p>25480 rows × 19 columns</p>\n",
              "</div>\n",
              "      <button class=\"colab-df-convert\" onclick=\"convertToInteractive('df-e3b3700b-2fca-4809-8afd-892106be0cd4')\"\n",
              "              title=\"Convert this dataframe to an interactive table.\"\n",
              "              style=\"display:none;\">\n",
              "        \n",
              "  <svg xmlns=\"http://www.w3.org/2000/svg\" height=\"24px\"viewBox=\"0 0 24 24\"\n",
              "       width=\"24px\">\n",
              "    <path d=\"M0 0h24v24H0V0z\" fill=\"none\"/>\n",
              "    <path d=\"M18.56 5.44l.94 2.06.94-2.06 2.06-.94-2.06-.94-.94-2.06-.94 2.06-2.06.94zm-11 1L8.5 8.5l.94-2.06 2.06-.94-2.06-.94L8.5 2.5l-.94 2.06-2.06.94zm10 10l.94 2.06.94-2.06 2.06-.94-2.06-.94-.94-2.06-.94 2.06-2.06.94z\"/><path d=\"M17.41 7.96l-1.37-1.37c-.4-.4-.92-.59-1.43-.59-.52 0-1.04.2-1.43.59L10.3 9.45l-7.72 7.72c-.78.78-.78 2.05 0 2.83L4 21.41c.39.39.9.59 1.41.59.51 0 1.02-.2 1.41-.59l7.78-7.78 2.81-2.81c.8-.78.8-2.07 0-2.86zM5.41 20L4 18.59l7.72-7.72 1.47 1.35L5.41 20z\"/>\n",
              "  </svg>\n",
              "      </button>\n",
              "      \n",
              "  <style>\n",
              "    .colab-df-container {\n",
              "      display:flex;\n",
              "      flex-wrap:wrap;\n",
              "      gap: 12px;\n",
              "    }\n",
              "\n",
              "    .colab-df-convert {\n",
              "      background-color: #E8F0FE;\n",
              "      border: none;\n",
              "      border-radius: 50%;\n",
              "      cursor: pointer;\n",
              "      display: none;\n",
              "      fill: #1967D2;\n",
              "      height: 32px;\n",
              "      padding: 0 0 0 0;\n",
              "      width: 32px;\n",
              "    }\n",
              "\n",
              "    .colab-df-convert:hover {\n",
              "      background-color: #E2EBFA;\n",
              "      box-shadow: 0px 1px 2px rgba(60, 64, 67, 0.3), 0px 1px 3px 1px rgba(60, 64, 67, 0.15);\n",
              "      fill: #174EA6;\n",
              "    }\n",
              "\n",
              "    [theme=dark] .colab-df-convert {\n",
              "      background-color: #3B4455;\n",
              "      fill: #D2E3FC;\n",
              "    }\n",
              "\n",
              "    [theme=dark] .colab-df-convert:hover {\n",
              "      background-color: #434B5C;\n",
              "      box-shadow: 0px 1px 3px 1px rgba(0, 0, 0, 0.15);\n",
              "      filter: drop-shadow(0px 1px 2px rgba(0, 0, 0, 0.3));\n",
              "      fill: #FFFFFF;\n",
              "    }\n",
              "  </style>\n",
              "\n",
              "      <script>\n",
              "        const buttonEl =\n",
              "          document.querySelector('#df-e3b3700b-2fca-4809-8afd-892106be0cd4 button.colab-df-convert');\n",
              "        buttonEl.style.display =\n",
              "          google.colab.kernel.accessAllowed ? 'block' : 'none';\n",
              "\n",
              "        async function convertToInteractive(key) {\n",
              "          const element = document.querySelector('#df-e3b3700b-2fca-4809-8afd-892106be0cd4');\n",
              "          const dataTable =\n",
              "            await google.colab.kernel.invokeFunction('convertToInteractive',\n",
              "                                                     [key], {});\n",
              "          if (!dataTable) return;\n",
              "\n",
              "          const docLinkHtml = 'Like what you see? Visit the ' +\n",
              "            '<a target=\"_blank\" href=https://colab.research.google.com/notebooks/data_table.ipynb>data table notebook</a>'\n",
              "            + ' to learn more about interactive tables.';\n",
              "          element.innerHTML = '';\n",
              "          dataTable['output_type'] = 'display_data';\n",
              "          await google.colab.output.renderOutput(dataTable, element);\n",
              "          const docLink = document.createElement('div');\n",
              "          docLink.innerHTML = docLinkHtml;\n",
              "          element.appendChild(docLink);\n",
              "        }\n",
              "      </script>\n",
              "    </div>\n",
              "  </div>\n",
              "  "
            ],
            "text/plain": [
              "     id_do_caso        continente  educacao_do_empregado  \\\n",
              "0     EZYV10567            Europa                      1   \n",
              "1      EZYV5505              Ásia                      3   \n",
              "2      EZYV5207              Ásia                      1   \n",
              "3      EZYV7545              Ásia                      1   \n",
              "4     EZYV16071              Ásia                      2   \n",
              "...         ...               ...                    ...   \n",
              "7639  EZYV19907  América do Norte                      2   \n",
              "7640    EZYV576              Ásia                      1   \n",
              "7641   EZYV1804              Ásia                      3   \n",
              "7642  EZYV13543  América do Norte                      3   \n",
              "7643  EZYV17903              Ásia                      2   \n",
              "\n",
              "      tem_experiencia_de_trabalho  requer_treinamento_de_trabalho  \\\n",
              "0                               0                               1   \n",
              "1                               1                               0   \n",
              "2                               0                               0   \n",
              "3                               0                               0   \n",
              "4                               1                               0   \n",
              "...                           ...                             ...   \n",
              "7639                            0                               0   \n",
              "7640                            1                               0   \n",
              "7641                            1                               0   \n",
              "7642                            1                               0   \n",
              "7643                            1                               0   \n",
              "\n",
              "      num_de_empregados  ano_de_estabelecimento regiao_de_emprego  \\\n",
              "0                  2087                     168               Sul   \n",
              "1                  5991                      20        Meio-Oeste   \n",
              "2                  1426                      23              Ilha   \n",
              "3                  3846                      31        Meio-Oeste   \n",
              "4                  3957                      74          Nordeste   \n",
              "...                 ...                     ...               ...   \n",
              "7639                 66                      15             Oeste   \n",
              "7640               4040                      29        Meio-Oeste   \n",
              "7641              32503                      98               Sul   \n",
              "7642               1894                      23               Sul   \n",
              "7643               3676                      16             Oeste   \n",
              "\n",
              "      salario_prevalecente unidade_de_salario  posicao_em_tempo_integral  \\\n",
              "0                 69711.24                Ano                          1   \n",
              "1                 52931.38                Ano                          1   \n",
              "2                110830.21                Ano                          1   \n",
              "3               4778003.36             Semana                          1   \n",
              "4                138155.24                Ano                          1   \n",
              "...                    ...                ...                        ...   \n",
              "7639             146845.92               Hora                          1   \n",
              "7640              60158.59                Ano                          1   \n",
              "7641              44555.12                Ano                          1   \n",
              "7642              97830.73                Ano                          1   \n",
              "7643               7215.39                Ano                          1   \n",
              "\n",
              "      status_do_caso  salario_anual  efeito_salario_emprego  \\\n",
              "0                0.0       69711.24                69711.24   \n",
              "1                1.0       52931.38                52931.38   \n",
              "2                0.0      110830.21               110830.21   \n",
              "3                0.0     4778003.36              4778003.36   \n",
              "4                1.0      138155.24               138155.24   \n",
              "...              ...            ...                     ...   \n",
              "7639             NaN      146845.92               146845.92   \n",
              "7640             NaN       60158.59                60158.59   \n",
              "7641             NaN       44555.12                44555.12   \n",
              "7642             NaN       97830.73                97830.73   \n",
              "7643             NaN        7215.39                 7215.39   \n",
              "\n",
              "      qualificado_trabalho  empresa_grande  \\\n",
              "0                        1               1   \n",
              "1                        4               1   \n",
              "2                        1               1   \n",
              "3                        1               1   \n",
              "4                        3               1   \n",
              "...                    ...             ...   \n",
              "7639                     2               0   \n",
              "7640                     2               1   \n",
              "7641                     4               1   \n",
              "7642                     4               1   \n",
              "7643                     3               1   \n",
              "\n",
              "      salario_em_relacao_ao_num_de_empregados  trabalho_e_experiencia  \\\n",
              "0                                   33.402607                       1   \n",
              "1                                    8.835149                       1   \n",
              "2                                   77.721045                       0   \n",
              "3                                 1242.330567                       0   \n",
              "4                                   34.914137                       1   \n",
              "...                                       ...                     ...   \n",
              "7639                              2224.938182                       0   \n",
              "7640                                14.890740                       1   \n",
              "7641                                 1.370800                       1   \n",
              "7642                                51.652973                       1   \n",
              "7643                                 1.962837                       1   \n",
              "\n",
              "      salario_abaixo_media  \n",
              "0                        1  \n",
              "1                        1  \n",
              "2                        1  \n",
              "3                        0  \n",
              "4                        1  \n",
              "...                    ...  \n",
              "7639                     1  \n",
              "7640                     1  \n",
              "7641                     1  \n",
              "7642                     1  \n",
              "7643                     1  \n",
              "\n",
              "[25480 rows x 19 columns]"
            ]
          },
          "execution_count": 22,
          "metadata": {},
          "output_type": "execute_result"
        }
      ],
      "source": [
        "df"
      ],
      "id": "91c64707"
    },
    {
      "cell_type": "code",
      "execution_count": null,
      "metadata": {
        "id": "b8c12ae2"
      },
      "outputs": [],
      "source": [
        "del df[\"id_do_caso\"]\n",
        "data = pd.get_dummies(df,drop_first=True)"
      ],
      "id": "b8c12ae2"
    },
    {
      "cell_type": "markdown",
      "metadata": {
        "id": "ca142579"
      },
      "source": [
        "-------"
      ],
      "id": "ca142579"
    },
    {
      "cell_type": "code",
      "execution_count": null,
      "metadata": {
        "id": "d2073db5"
      },
      "outputs": [],
      "source": [
        "train = data[:17836]\n",
        "test = data[17836:]"
      ],
      "id": "d2073db5"
    },
    {
      "cell_type": "code",
      "execution_count": null,
      "metadata": {
        "id": "e066bb33"
      },
      "outputs": [],
      "source": [
        "x = train.drop(\"status_do_caso\",axis=1)\n",
        "y = train[\"status_do_caso\"]"
      ],
      "id": "e066bb33"
    },
    {
      "cell_type": "code",
      "execution_count": null,
      "metadata": {
        "id": "82e991c3"
      },
      "outputs": [],
      "source": [
        "sm = SMOTE(random_state=42)\n",
        "x_res, y_res = sm.fit_resample(x, y)\n",
        "x_train, x_test, y_train, y_test = train_test_split(x_res, y_res, test_size=0.2, random_state=42)\n",
        "\n",
        "# Parametre ızgarası\n",
        "param_grid = {\n",
        "    \"n_estimators\": [100, 200, 300],\n",
        "    \"learning_rate\": [0.01, 0.1, 0.2],\n",
        "    \"max_depth\": [3, 4, 5],\n",
        "    \"subsample\": [0.5, 0.7, 1.0],\n",
        "}"
      ],
      "id": "82e991c3"
    },
    {
      "cell_type": "code",
      "execution_count": null,
      "metadata": {
        "colab": {
          "background_save": true,
          "base_uri": "https://localhost:8080/"
        },
        "id": "j6Xml014LV6W",
        "outputId": "6e078c14-1971-4522-9788-c60d120cb8bb"
      },
      "outputs": [
        {
          "name": "stdout",
          "output_type": "stream",
          "text": [
            "Fitting 3 folds for each of 81 candidates, totalling 243 fits\n"
          ]
        }
      ],
      "source": [
        "# Grid Search\n",
        "grid_search = GridSearchCV(\n",
        "    estimator=GradientBoostingClassifier(random_state=42),\n",
        "    param_grid=param_grid,\n",
        "    cv=3,  # 3-fold cross validation\n",
        "    scoring='accuracy',  # doğruluk skorunu kullan\n",
        "    verbose=2,  # sonuçların yazdırılması\n",
        "    n_jobs=-1,  # tüm çekirdekleri kullan\n",
        ")\n",
        "grid_result = grid_search.fit(x_train, y_train)"
      ],
      "id": "j6Xml014LV6W"
    },
    {
      "cell_type": "code",
      "execution_count": null,
      "metadata": {
        "colab": {
          "background_save": true
        },
        "id": "f4277cad",
        "outputId": "b9fc7d59-fd15-4616-efd2-42d9fa9a0e5a"
      },
      "outputs": [
        {
          "name": "stdout",
          "output_type": "stream",
          "text": [
            "En iyi hiperparametreler: {'learning_rate': 0.1, 'max_depth': 3, 'n_estimators': 300, 'subsample': 0.7}\n",
            "En yüksek doğruluk skoru: 0.7951\n"
          ]
        }
      ],
      "source": [
        "\n",
        "# En iyi parametrelerle modeli eğit\n",
        "best_params = grid_result.best_params_\n",
        "model = GradientBoostingClassifier(**best_params)\n",
        "model.fit(x_train, y_train)\n",
        "print(f\"En iyi hiperparametreler: {grid_search.best_params_}\")\n",
        "print(f\"En yüksek doğruluk skoru: {grid_search.best_score_:.4f}\")"
      ],
      "id": "f4277cad"
    },
    {
      "cell_type": "code",
      "execution_count": null,
      "metadata": {
        "colab": {
          "background_save": true
        },
        "id": "bc_AtSQtLd10"
      },
      "outputs": [],
      "source": [
        "# Tahmin\n",
        "guess = model.predict(test.drop(\"status_do_caso\", axis=1))"
      ],
      "id": "bc_AtSQtLd10"
    },
    {
      "cell_type": "code",
      "execution_count": null,
      "metadata": {
        "colab": {
          "background_save": true
        },
        "id": "0bags1w6Lf5X"
      },
      "outputs": [],
      "source": [
        "# Sonuçları kaydet\n",
        "result = pd.DataFrame()\n",
        "result[\"id_do_caso\"] =df_test[\"id_do_caso\"]\n",
        "result[\"status_do_caso\"] = guess\n",
        "result[\"status_do_caso\"] = result[\"status_do_caso\"].astype('int32')\n",
        "result.to_csv(\"sample_submission_egitim_sayilari_artti.csv\",index=False)"
      ],
      "id": "0bags1w6Lf5X"
    },
    {
      "cell_type": "code",
      "execution_count": null,
      "metadata": {
        "id": "YWfDMqUgNgse"
      },
      "outputs": [],
      "source": [],
      "id": "YWfDMqUgNgse"
    }
  ],
  "metadata": {
    "colab": {
      "provenance": []
    },
    "kernelspec": {
      "display_name": "Python 3 (ipykernel)",
      "language": "python",
      "name": "python3"
    },
    "language_info": {
      "codemirror_mode": {
        "name": "ipython",
        "version": 3
      },
      "file_extension": ".py",
      "mimetype": "text/x-python",
      "name": "python",
      "nbconvert_exporter": "python",
      "pygments_lexer": "ipython3",
      "version": "3.10.9"
    }
  },
  "nbformat": 4,
  "nbformat_minor": 5
}